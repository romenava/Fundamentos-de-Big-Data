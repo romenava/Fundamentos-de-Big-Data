{
 "cells": [
  {
   "cell_type": "code",
   "execution_count": 1,
   "id": "3ada04e5",
   "metadata": {},
   "outputs": [
    {
     "data": {
      "text/plain": [
       "Intitializing Scala interpreter ..."
      ]
     },
     "metadata": {},
     "output_type": "display_data"
    },
    {
     "data": {
      "text/plain": [
       "Spark Web UI available at http://L2108017.bosonit.local:4045\n",
       "SparkContext available as 'sc' (version = 3.0.3, master = local[*], app id = local-1634122443701)\n",
       "SparkSession available as 'spark'\n"
      ]
     },
     "metadata": {},
     "output_type": "display_data"
    },
    {
     "data": {
      "text/plain": [
       "import org.apache.spark.sql.SparkSession\r\n",
       "spark: org.apache.spark.sql.SparkSession = org.apache.spark.sql.SparkSession@533acfd8\r\n"
      ]
     },
     "execution_count": 1,
     "metadata": {},
     "output_type": "execute_result"
    }
   ],
   "source": [
    "import org.apache.spark.sql.SparkSession\n",
    "val spark = SparkSession\n",
    " .builder\n",
    " .appName(\"ScalaChapter3\")\n",
    " .getOrCreate()"
   ]
  },
  {
   "cell_type": "code",
   "execution_count": 2,
   "id": "d5ff13c9",
   "metadata": {},
   "outputs": [
    {
     "data": {
      "text/plain": [
       "import org.apache.spark.sql.types._\r\n",
       "fireSchema: org.apache.spark.sql.types.StructType = StructType(StructField(CallNumber,IntegerType,true), StructField(UnitID,StringType,true), StructField(IncidentNumber,IntegerType,true), StructField(CallType,StringType,true), StructField(CallDate,StringType,true), StructField(WatchDate,StringType,true), StructField(CallFinalDisposition,StringType,true), StructField(AvailableDtTm,StringType,true), StructField(Address,StringType,true), StructField(City,StringType,true), StructField(Zipcode,IntegerType,true), StructField(Battalion,StringType,true), StructField(StationArea,StringType,true), StructField(Box,StringType,true), StructField(OriginalPriority,StringType,true), StructField(Priority,StringType,true), StructField(FinalPriority,IntegerType,true), ...\r\n"
      ]
     },
     "execution_count": 2,
     "metadata": {},
     "output_type": "execute_result"
    }
   ],
   "source": [
    "import org.apache.spark.sql.types._\n",
    "\n",
    "// Crear el esquema para leer el csv\n",
    "val fireSchema = StructType(Array(StructField(\"CallNumber\", IntegerType, true),\n",
    " StructField(\"UnitID\", StringType, true),\n",
    " StructField(\"IncidentNumber\", IntegerType, true),\n",
    " StructField(\"CallType\", StringType, true), \n",
    " StructField(\"CallDate\", StringType, true), \n",
    " StructField(\"WatchDate\", StringType, true),\n",
    " StructField(\"CallFinalDisposition\", StringType, true),\n",
    " StructField(\"AvailableDtTm\", StringType, true),\n",
    " StructField(\"Address\", StringType, true), \n",
    " StructField(\"City\", StringType, true), \n",
    " StructField(\"Zipcode\", IntegerType, true), \n",
    " StructField(\"Battalion\", StringType, true), \n",
    " StructField(\"StationArea\", StringType, true), \n",
    " StructField(\"Box\", StringType, true), \n",
    " StructField(\"OriginalPriority\", StringType, true), \n",
    " StructField(\"Priority\", StringType, true), \n",
    " StructField(\"FinalPriority\", IntegerType, true), \n",
    " StructField(\"ALSUnit\", BooleanType, true), \n",
    " StructField(\"CallTypeGroup\", StringType, true),\n",
    " StructField(\"NumAlarms\", IntegerType, true),\n",
    " StructField(\"UnitType\", StringType, true),\n",
    " StructField(\"UnitSequenceInCallDispatch\", IntegerType, true),\n",
    " StructField(\"FirePreventionDistrict\", StringType, true),\n",
    " StructField(\"SupervisorDistrict\", StringType, true),\n",
    " StructField(\"Neighborhood\", StringType, true),\n",
    " StructField(\"Location\", StringType, true),\n",
    " StructField(\"RowID\", StringType, true),\n",
    " StructField(\"Delay\", FloatType, true)))\n",
    "\n",
    "// Ruta del fichero\n",
    "val sFireFile=\"C:/Users/alvaro.romero/Big_Data/LearningSparkV2-master/chapter3/data/sf-fire-calls.csv\"\n",
    "\n",
    "// Leer el fichero en un DataFrame usando el esquema que hemos definido y dicendo que tiene cabecera el fichero\n",
    "val fireDF= spark.read.schema(fireSchema)\n",
    ".option(\"header\",\"true\")\n",
    ".csv(sFireFile)"
   ]
  },
  {
   "cell_type": "code",
   "execution_count": 3,
   "id": "034ec63f",
   "metadata": {},
   "outputs": [
    {
     "data": {
      "text/plain": [
       "sampleDF: org.apache.spark.sql.DataFrame = [CallNumber: string, UnitID: string ... 26 more fields]\r\n"
      ]
     },
     "execution_count": 3,
     "metadata": {},
     "output_type": "execute_result"
    }
   ],
   "source": [
    "// Crear un DataFrame infiriendo el esquema\n",
    "val sampleDF = spark\n",
    ".read\n",
    ".option(\"samplingRatio\", 0.001)\n",
    ".option(\"header\", true)\n",
    ".csv(\"C:/Users/alvaro.romero/Big_Data/LearningSparkV2-master/chapter3/data/sf-fire-calls.csv\")\n"
   ]
  },
  {
   "cell_type": "code",
   "execution_count": 4,
   "id": "7f59c6ba",
   "metadata": {},
   "outputs": [
    {
     "name": "stdout",
     "output_type": "stream",
     "text": [
      "+-------------------+\n",
      "|ResponseDelayedMins|\n",
      "+-------------------+\n",
      "|5.35               |\n",
      "|6.25               |\n",
      "|5.2                |\n",
      "|5.6                |\n",
      "|7.25               |\n",
      "+-------------------+\n",
      "only showing top 5 rows\n",
      "\r\n"
     ]
    },
    {
     "data": {
      "text/plain": [
       "new_fire_df: org.apache.spark.sql.DataFrame = [CallNumber: int, UnitID: string ... 26 more fields]\r\n"
      ]
     },
     "execution_count": 4,
     "metadata": {},
     "output_type": "execute_result"
    }
   ],
   "source": [
    "// Crear un nuevo DataFrame cambiando el nombre de la columna Delay por ResponseDelayedMins\n",
    "val new_fire_df =fireDF.withColumnRenamed(\"Delay\", \"ResponseDelayedMins\")\n",
    "\n",
    "// Mostrar 5 columnas ResponseDelayedMins > 5\n",
    "new_fire_df.select(\"ResponseDelayedMins\")\n",
    ".where(col(\"ResponseDelayedMins\")>5)\n",
    ".show(5, false)"
   ]
  },
  {
   "cell_type": "code",
   "execution_count": 4,
   "id": "133b0aaa",
   "metadata": {},
   "outputs": [
    {
     "data": {
      "text/plain": [
       "fire_ts_df: org.apache.spark.sql.DataFrame = [CallNumber: int, UnitID: string ... 26 more fields]\r\n"
      ]
     },
     "execution_count": 4,
     "metadata": {},
     "output_type": "execute_result"
    }
   ],
   "source": [
    "// Crear nuevo DataFrame añadiendo las columnas IncidentDate, OnWatchDate y AvailableDTS y borrando CallDate, WatchDate y AvailableDtTm\n",
    "val fire_ts_df = new_fire_df\n",
    "              .withColumn(\"IncidentDate\", to_timestamp(col(\"CallDate\"), \"MM/dd/yyyy\"))\n",
    "              .drop(\"CallDate\")\n",
    "              .withColumn(\"OnWatchDate\", to_timestamp(col(\"WatchDate\"), \"MM/dd/yyyy\"))\n",
    "              .drop(\"WatchDate\")\n",
    "              .withColumn(\"AvailableDtTS\", to_timestamp(col(\"AvailableDtTm\"), \"MM/dd/yyyy hh:mm:ss a\"))\n",
    "              .drop(\"AvailableDtTm\")"
   ]
  },
  {
   "cell_type": "code",
   "execution_count": 5,
   "id": "7317e9fb",
   "metadata": {},
   "outputs": [
    {
     "name": "stdout",
     "output_type": "stream",
     "text": [
      "+-------------------+-------------------+-------------------+\n",
      "|IncidentDate       |OnWatchDate        |AvailableDtTS      |\n",
      "+-------------------+-------------------+-------------------+\n",
      "|2002-01-11 00:00:00|2002-01-10 00:00:00|2002-01-11 01:51:44|\n",
      "|2002-01-11 00:00:00|2002-01-10 00:00:00|2002-01-11 03:01:18|\n",
      "|2002-01-11 00:00:00|2002-01-10 00:00:00|2002-01-11 02:39:50|\n",
      "|2002-01-11 00:00:00|2002-01-10 00:00:00|2002-01-11 04:16:46|\n",
      "|2002-01-11 00:00:00|2002-01-10 00:00:00|2002-01-11 06:01:58|\n",
      "+-------------------+-------------------+-------------------+\n",
      "only showing top 5 rows\n",
      "\r\n"
     ]
    }
   ],
   "source": [
    "fire_ts_df\n",
    ".select(\"IncidentDate\", \"OnWatchDate\", \"AvailableDtTS\")\n",
    ".show(5,false)"
   ]
  },
  {
   "cell_type": "code",
   "execution_count": 6,
   "id": "cce260d7",
   "metadata": {},
   "outputs": [
    {
     "name": "stdout",
     "output_type": "stream",
     "text": [
      "+------------------+\n",
      "|year(IncidentDate)|\n",
      "+------------------+\n",
      "|              2000|\n",
      "|              2001|\n",
      "|              2002|\n",
      "|              2003|\n",
      "|              2004|\n",
      "|              2005|\n",
      "|              2006|\n",
      "|              2007|\n",
      "|              2008|\n",
      "|              2009|\n",
      "|              2010|\n",
      "|              2011|\n",
      "|              2012|\n",
      "|              2013|\n",
      "|              2014|\n",
      "|              2015|\n",
      "|              2016|\n",
      "|              2017|\n",
      "|              2018|\n",
      "+------------------+\n",
      "\r\n"
     ]
    }
   ],
   "source": [
    "fire_ts_df\n",
    ".select(year($\"IncidentDate\"))\n",
    ".distinct()\n",
    ".orderBy(year($\"IncidentDate\"))\n",
    ".show()"
   ]
  },
  {
   "cell_type": "code",
   "execution_count": 7,
   "id": "6df4a608",
   "metadata": {},
   "outputs": [
    {
     "name": "stdout",
     "output_type": "stream",
     "text": [
      "+-------------------------------+------+\n",
      "|CallType                       |count |\n",
      "+-------------------------------+------+\n",
      "|Medical Incident               |113794|\n",
      "|Structure Fire                 |23319 |\n",
      "|Alarms                         |19406 |\n",
      "|Traffic Collision              |7013  |\n",
      "|Citizen Assist / Service Call  |2524  |\n",
      "|Other                          |2166  |\n",
      "|Outside Fire                   |2094  |\n",
      "|Vehicle Fire                   |854   |\n",
      "|Gas Leak (Natural and LP Gases)|764   |\n",
      "|Water Rescue                   |755   |\n",
      "+-------------------------------+------+\n",
      "only showing top 10 rows\n",
      "\r\n"
     ]
    }
   ],
   "source": [
    "fire_ts_df\n",
    ".select(\"CallType\")\n",
    ".where(col(\"CallType\").isNotNull)\n",
    ".groupBy(\"CallType\")\n",
    ".count()\n",
    ".orderBy(desc(\"count\"))\n",
    ".show(10,false)"
   ]
  },
  {
   "cell_type": "code",
   "execution_count": 8,
   "id": "1a28d3fa",
   "metadata": {},
   "outputs": [
    {
     "name": "stdout",
     "output_type": "stream",
     "text": [
      "+--------------------------------------------+\n",
      "|CallType                                    |\n",
      "+--------------------------------------------+\n",
      "|Elevator / Escalator Rescue                 |\n",
      "|Marine Fire                                 |\n",
      "|Aircraft Emergency                          |\n",
      "|Confined Space / Structure Collapse         |\n",
      "|Administrative                              |\n",
      "|Alarms                                      |\n",
      "|Odor (Strange / Unknown)                    |\n",
      "|Citizen Assist / Service Call               |\n",
      "|HazMat                                      |\n",
      "|Watercraft in Distress                      |\n",
      "|Explosion                                   |\n",
      "|Oil Spill                                   |\n",
      "|Vehicle Fire                                |\n",
      "|Suspicious Package                          |\n",
      "|Extrication / Entrapped (Machinery, Vehicle)|\n",
      "|Other                                       |\n",
      "|Outside Fire                                |\n",
      "|Traffic Collision                           |\n",
      "|Assist Police                               |\n",
      "|Gas Leak (Natural and LP Gases)             |\n",
      "|Water Rescue                                |\n",
      "|Electrical Hazard                           |\n",
      "|High Angle Rescue                           |\n",
      "|Structure Fire                              |\n",
      "|Industrial Accidents                        |\n",
      "|Medical Incident                            |\n",
      "|Mutual Aid / Assist Outside Agency          |\n",
      "|Fuel Spill                                  |\n",
      "|Smoke Investigation (Outside)               |\n",
      "|Train / Rail Incident                       |\n",
      "+--------------------------------------------+\n",
      "\r\n"
     ]
    }
   ],
   "source": [
    "fireDF\n",
    ".select(\"CallType\")\n",
    ".where(col(\"CallType\").isNotNull)\n",
    ".distinct()\n",
    ".show(30,false)"
   ]
  },
  {
   "cell_type": "code",
   "execution_count": 9,
   "id": "72d86d33",
   "metadata": {},
   "outputs": [
    {
     "name": "stdout",
     "output_type": "stream",
     "text": [
      "+-------------------+-----+\n",
      "|month(IncidentDate)|count|\n",
      "+-------------------+-----+\n",
      "|                 10| 1068|\n",
      "|                  5| 1047|\n",
      "|                  3| 1029|\n",
      "|                  8| 1021|\n",
      "|                  1| 1007|\n",
      "|                  7|  974|\n",
      "|                  6|  974|\n",
      "|                  9|  951|\n",
      "|                  4|  947|\n",
      "|                  2|  919|\n",
      "|                 11|  199|\n",
      "+-------------------+-----+\n",
      "\r\n"
     ]
    }
   ],
   "source": [
    "fire_ts_df\n",
    ".filter(year($\"IncidentDate\")===2018)\n",
    ".groupBy(month($\"IncidentDate\"))\n",
    ".count()\n",
    ".orderBy(desc(\"count\"))\n",
    ".show(12)"
   ]
  },
  {
   "cell_type": "code",
   "execution_count": 10,
   "id": "b6a486c4",
   "metadata": {},
   "outputs": [
    {
     "name": "stdout",
     "output_type": "stream",
     "text": [
      "+------------------------------+-----+\n",
      "|Neighborhood                  |count|\n",
      "+------------------------------+-----+\n",
      "|Tenderloin                    |1393 |\n",
      "|South of Market               |1053 |\n",
      "|Mission                       |913  |\n",
      "|Financial District/South Beach|772  |\n",
      "|Bayview Hunters Point         |522  |\n",
      "|Western Addition              |352  |\n",
      "|Sunset/Parkside               |346  |\n",
      "|Nob Hill                      |295  |\n",
      "|Hayes Valley                  |291  |\n",
      "|Outer Richmond                |262  |\n",
      "|Castro/Upper Market           |251  |\n",
      "|North Beach                   |231  |\n",
      "|Excelsior                     |212  |\n",
      "|Potrero Hill                  |210  |\n",
      "|West of Twin Peaks            |210  |\n",
      "|Pacific Heights               |191  |\n",
      "|Chinatown                     |191  |\n",
      "|Marina                        |191  |\n",
      "|Mission Bay                   |178  |\n",
      "|Bernal Heights                |170  |\n",
      "|Lakeshore                     |159  |\n",
      "|Inner Sunset                  |154  |\n",
      "|Russian Hill                  |147  |\n",
      "|Haight Ashbury                |140  |\n",
      "|Oceanview/Merced/Ingleside    |139  |\n",
      "|Outer Mission                 |137  |\n",
      "|Inner Richmond                |129  |\n",
      "|Lone Mountain/USF             |108  |\n",
      "|Visitacion Valley             |105  |\n",
      "|Japantown                     |94   |\n",
      "|Portola                       |83   |\n",
      "|Noe Valley                    |79   |\n",
      "|Treasure Island               |72   |\n",
      "|Presidio Heights              |71   |\n",
      "|Presidio                      |69   |\n",
      "|Golden Gate Park              |64   |\n",
      "|Twin Peaks                    |61   |\n",
      "|Glen Park                     |48   |\n",
      "|Seacliff                      |15   |\n",
      "|McLaren Park                  |14   |\n",
      "|Lincoln Park                  |9    |\n",
      "|None                          |5    |\n",
      "+------------------------------+-----+\n",
      "\r\n"
     ]
    }
   ],
   "source": [
    "fire_ts_df\n",
    ".select(\"Neighborhood\")\n",
    ".where(year($\"IncidentDate\") === 2018)\n",
    ".groupBy(\"Neighborhood\")\n",
    ".count()\n",
    ".orderBy(desc(\"count\"))\n",
    ".show(50, false)"
   ]
  },
  {
   "cell_type": "code",
   "execution_count": 11,
   "id": "c6e53d54",
   "metadata": {},
   "outputs": [
    {
     "name": "stdout",
     "output_type": "stream",
     "text": [
      "+------------------------------+-------------------+\n",
      "|Neighborhood                  |ResponseDelayedMins|\n",
      "+------------------------------+-------------------+\n",
      "|Presidio Heights              |2.8833334          |\n",
      "|Mission Bay                   |6.3333335          |\n",
      "|Chinatown                     |2.65               |\n",
      "|Financial District/South Beach|3.5333333          |\n",
      "|Tenderloin                    |1.1                |\n",
      "|Bayview Hunters Point         |4.05               |\n",
      "|Inner Richmond                |2.5666666          |\n",
      "|Inner Sunset                  |1.4                |\n",
      "|Sunset/Parkside               |2.6666667          |\n",
      "|South of Market               |1.7666667          |\n",
      "+------------------------------+-------------------+\n",
      "only showing top 10 rows\n",
      "\r\n"
     ]
    }
   ],
   "source": [
    "fire_ts_df\n",
    ".select(\"Neighborhood\", \"ResponseDelayedMins\")\n",
    ".filter(year($\"IncidentDate\") === 2018)\n",
    ".show(10, false)"
   ]
  },
  {
   "cell_type": "code",
   "execution_count": 12,
   "id": "8653e499",
   "metadata": {},
   "outputs": [
    {
     "name": "stdout",
     "output_type": "stream",
     "text": [
      "+------------------------+-----+\n",
      "|weekofyear(IncidentDate)|count|\n",
      "+------------------------+-----+\n",
      "|                      22|  259|\n",
      "|                      40|  255|\n",
      "|                      43|  250|\n",
      "|                      25|  249|\n",
      "|                       1|  246|\n",
      "|                      44|  244|\n",
      "|                      32|  243|\n",
      "|                      13|  243|\n",
      "|                      11|  240|\n",
      "|                      18|  236|\n",
      "|                       5|  236|\n",
      "|                      23|  235|\n",
      "+------------------------+-----+\n",
      "only showing top 12 rows\n",
      "\r\n"
     ]
    }
   ],
   "source": [
    "fire_ts_df\n",
    ".filter(year($\"IncidentDate\")===2018)\n",
    ".groupBy(weekofyear($\"IncidentDate\"))\n",
    ".count()\n",
    ".orderBy(desc(\"count\"))\n",
    ".show(12)"
   ]
  },
  {
   "cell_type": "code",
   "execution_count": 13,
   "id": "c0bffdd6",
   "metadata": {},
   "outputs": [
    {
     "name": "stdout",
     "output_type": "stream",
     "text": [
      "+----------------+-------+-----+\n",
      "|        CallType|ZipCode|count|\n",
      "+----------------+-------+-----+\n",
      "|Medical Incident|  94102|16130|\n",
      "|Medical Incident|  94103|14775|\n",
      "|Medical Incident|  94110| 9995|\n",
      "|Medical Incident|  94109| 9479|\n",
      "|Medical Incident|  94124| 5885|\n",
      "|Medical Incident|  94112| 5630|\n",
      "|Medical Incident|  94115| 4785|\n",
      "|Medical Incident|  94122| 4323|\n",
      "|Medical Incident|  94107| 4284|\n",
      "|Medical Incident|  94133| 3977|\n",
      "|Medical Incident|  94117| 3522|\n",
      "|Medical Incident|  94134| 3437|\n",
      "|Medical Incident|  94114| 3225|\n",
      "|Medical Incident|  94118| 3104|\n",
      "|Medical Incident|  94121| 2953|\n",
      "|Medical Incident|  94116| 2738|\n",
      "|Medical Incident|  94132| 2594|\n",
      "|  Structure Fire|  94110| 2267|\n",
      "|Medical Incident|  94105| 2258|\n",
      "|  Structure Fire|  94102| 2229|\n",
      "+----------------+-------+-----+\n",
      "only showing top 20 rows\n",
      "\r\n"
     ]
    }
   ],
   "source": [
    "fire_ts_df\n",
    ".select(\"CallType\", \"ZipCode\")\n",
    ".where($\"CallType\".isNotNull)\n",
    ".groupBy(\"CallType\", \"ZipCode\")\n",
    ".count()\n",
    ".orderBy(desc(\"count\"))\n",
    ".show()"
   ]
  },
  {
   "cell_type": "code",
   "execution_count": 14,
   "id": "6c28f7d0",
   "metadata": {},
   "outputs": [
    {
     "name": "stdout",
     "output_type": "stream",
     "text": [
      "+------------------------------+-------+\n",
      "|Neighborhood                  |ZipCode|\n",
      "+------------------------------+-------+\n",
      "|Potrero Hill                  |94103  |\n",
      "|Western Addition              |94102  |\n",
      "|Tenderloin                    |94102  |\n",
      "|Nob Hill                      |94102  |\n",
      "|Castro/Upper Market           |94103  |\n",
      "|South of Market               |94102  |\n",
      "|South of Market               |94103  |\n",
      "|Hayes Valley                  |94103  |\n",
      "|Financial District/South Beach|94102  |\n",
      "|Mission Bay                   |94103  |\n",
      "+------------------------------+-------+\n",
      "only showing top 10 rows\n",
      "\r\n"
     ]
    }
   ],
   "source": [
    "fire_ts_df\n",
    ".select(\"Neighborhood\", \"ZipCode\")\n",
    ".where((col(\"ZipCode\")===94102) or (col(\"ZipCode\")===94103))\n",
    ".distinct()\n",
    ".show(10,false)"
   ]
  },
  {
   "cell_type": "code",
   "execution_count": 15,
   "id": "d46bc94b",
   "metadata": {},
   "outputs": [
    {
     "data": {
      "text/plain": [
       "defined class DeviceIoTData\r\n"
      ]
     },
     "execution_count": 15,
     "metadata": {},
     "output_type": "execute_result"
    }
   ],
   "source": [
    "case class DeviceIoTData (battery_level: Long, c02_level: Long, \n",
    "    cca2: String, cca3: String, cn: String, device_id: Long, \n",
    "    device_name: String, humidity: Long, ip: String, latitude: Double,\n",
    "    lcd: String, longitude: Double, scale:String, temp: Long, timestamp: Long)"
   ]
  },
  {
   "cell_type": "code",
   "execution_count": 16,
   "id": "14dc0dab",
   "metadata": {},
   "outputs": [
    {
     "data": {
      "text/plain": [
       "defined class DeviceTempByCountry\r\n"
      ]
     },
     "execution_count": 16,
     "metadata": {},
     "output_type": "execute_result"
    }
   ],
   "source": [
    "case class DeviceTempByCountry(temp: Long, device_name: String, device_id: Long, cca3: String)"
   ]
  },
  {
   "cell_type": "code",
   "execution_count": 17,
   "id": "73261fc6",
   "metadata": {},
   "outputs": [
    {
     "name": "stdout",
     "output_type": "stream",
     "text": [
      "root\n",
      " |-- battery_level: long (nullable = true)\n",
      " |-- c02_level: long (nullable = true)\n",
      " |-- cca2: string (nullable = true)\n",
      " |-- cca3: string (nullable = true)\n",
      " |-- cn: string (nullable = true)\n",
      " |-- device_id: long (nullable = true)\n",
      " |-- device_name: string (nullable = true)\n",
      " |-- humidity: long (nullable = true)\n",
      " |-- ip: string (nullable = true)\n",
      " |-- latitude: double (nullable = true)\n",
      " |-- lcd: string (nullable = true)\n",
      " |-- longitude: double (nullable = true)\n",
      " |-- scale: string (nullable = true)\n",
      " |-- temp: long (nullable = true)\n",
      " |-- timestamp: long (nullable = true)\n",
      "\r\n"
     ]
    },
    {
     "data": {
      "text/plain": [
       "ds: org.apache.spark.sql.Dataset[DeviceIoTData] = [battery_level: bigint, c02_level: bigint ... 13 more fields]\r\n"
      ]
     },
     "execution_count": 17,
     "metadata": {},
     "output_type": "execute_result"
    }
   ],
   "source": [
    "val ds = spark.read.json(\"C:/Users/alvaro.romero/Big_Data/LearningSparkV2-master/databricks-datasets/learning-spark-v2/iot-devices/iot_devices.json\").as[DeviceIoTData]\n",
    "ds.printSchema()"
   ]
  },
  {
   "cell_type": "code",
   "execution_count": 18,
   "id": "a7354175",
   "metadata": {},
   "outputs": [
    {
     "name": "stdout",
     "output_type": "stream",
     "text": [
      "+-------------+---------+----+----+-------------+---------+---------------------+--------+-------------+--------+------+---------+-------+----+-------------+\n",
      "|battery_level|c02_level|cca2|cca3|cn           |device_id|device_name          |humidity|ip           |latitude|lcd   |longitude|scale  |temp|timestamp    |\n",
      "+-------------+---------+----+----+-------------+---------+---------------------+--------+-------------+--------+------+---------+-------+----+-------------+\n",
      "|8            |868      |US  |USA |United States|1        |meter-gauge-1xbYRYcj |51      |68.161.225.1 |38.0    |green |-97.0    |Celsius|34  |1458444054093|\n",
      "|7            |1473     |NO  |NOR |Norway       |2        |sensor-pad-2n2Pea    |70      |213.161.254.1|62.47   |red   |6.15     |Celsius|11  |1458444054119|\n",
      "|2            |1556     |IT  |ITA |Italy        |3        |device-mac-36TWSKiT  |44      |88.36.5.1    |42.83   |red   |12.83    |Celsius|19  |1458444054120|\n",
      "|6            |1080     |US  |USA |United States|4        |sensor-pad-4mzWkz    |32      |66.39.173.154|44.06   |yellow|-121.32  |Celsius|28  |1458444054121|\n",
      "|4            |931      |PH  |PHL |Philippines  |5        |therm-stick-5gimpUrBB|62      |203.82.41.9  |14.58   |green |120.97   |Celsius|25  |1458444054122|\n",
      "+-------------+---------+----+----+-------------+---------+---------------------+--------+-------------+--------+------+---------+-------+----+-------------+\n",
      "only showing top 5 rows\n",
      "\r\n"
     ]
    }
   ],
   "source": [
    "ds.show(5,false)"
   ]
  },
  {
   "cell_type": "code",
   "execution_count": 19,
   "id": "0c667f0e",
   "metadata": {},
   "outputs": [
    {
     "name": "stdout",
     "output_type": "stream",
     "text": [
      "+-------------+---------+---------------------------+\n",
      "|battery_level|c02_level|device_name                |\n",
      "+-------------+---------+---------------------------+\n",
      "|1            |800      |sensor-pad-186516qVnGVN7jK |\n",
      "|1            |800      |sensor-pad-190514UCQcNBzHH |\n",
      "|7            |800      |sensor-pad-1864985T2DlE87SJ|\n",
      "|4            |800      |meter-gauge-1855818YaYf    |\n",
      "|3            |800      |sensor-pad-1886381NkVIS    |\n",
      "+-------------+---------+---------------------------+\n",
      "only showing top 5 rows\n",
      "\r\n"
     ]
    }
   ],
   "source": [
    "ds\n",
    ".select($\"battery_level\", $\"c02_level\", $\"device_name\")\n",
    ".where($\"battery_level\" < 8)\n",
    ".sort($\"c02_level\")\n",
    ".show(5, false)\n"
   ]
  },
  {
   "cell_type": "code",
   "execution_count": 20,
   "id": "34e087fc",
   "metadata": {},
   "outputs": [
    {
     "data": {
      "text/plain": [
       "newDS: org.apache.spark.sql.Dataset[org.apache.spark.sql.Row] = [cn: string, avg(battery_level): double ... 7 more fields]\r\n"
      ]
     },
     "execution_count": 20,
     "metadata": {},
     "output_type": "execute_result"
    }
   ],
   "source": [
    "val newDS=ds.filter($\"c02_level\">1300).groupBy($\"cn\").avg().sort($\"avg(c02_level)\".desc)"
   ]
  },
  {
   "cell_type": "code",
   "execution_count": 21,
   "id": "26c0dca5",
   "metadata": {},
   "outputs": [
    {
     "name": "stdout",
     "output_type": "stream",
     "text": [
      "+------------------------------+------------------+--------------+--------------+-------------+-------------+------------------+---------+------------------+\n",
      "|cn                            |avg(battery_level)|avg(c02_level)|avg(device_id)|avg(humidity)|avg(latitude)|avg(longitude)    |avg(temp)|avg(timestamp)    |\n",
      "+------------------------------+------------------+--------------+--------------+-------------+-------------+------------------+---------+------------------+\n",
      "|Solomon Islands               |3.0               |1588.0        |187433.0      |40.0         |-9.43        |159.95            |21.0     |1.458444060894E12 |\n",
      "|Federated States of Micronesia|3.0               |1573.0        |78806.0       |55.0         |6.92         |158.25            |13.0     |1.45844405755E12  |\n",
      "|Rwanda                        |2.5               |1560.5        |102085.0      |44.0         |-2.0         |30.0              |21.5     |1.458444058393E12 |\n",
      "|British Indian Ocean Territory|7.0               |1560.0        |83930.0       |54.0         |-6.0         |71.5              |27.0     |1.458444057649E12 |\n",
      "|Aruba                         |4.0               |1559.0        |99899.0       |84.0         |12.51        |-70.0             |19.5     |1.458444057927E12 |\n",
      "|Isle of Man                   |5.0               |1548.0        |137958.5      |46.5         |54.23        |-4.57             |24.5     |1.4584440593755E12|\n",
      "|Gambia                        |3.0               |1544.5        |34748.0       |66.0         |13.47        |-16.57            |16.0     |1.458444056277E12 |\n",
      "|Lesotho                       |2.5               |1537.5        |74949.0       |72.0         |-29.41       |27.990000000000002|21.0     |1.458444057568E12 |\n",
      "|Cuba                          |5.2               |1534.8        |66819.2       |42.0         |21.444       |-79.336           |26.6     |1.4584440572212E12|\n",
      "|Gabon                         |8.0               |1523.0        |106953.0      |30.0         |0.38         |9.45              |28.0     |1.45844405847E12  |\n",
      "+------------------------------+------------------+--------------+--------------+-------------+-------------+------------------+---------+------------------+\n",
      "only showing top 10 rows\n",
      "\r\n"
     ]
    }
   ],
   "source": [
    "newDS.show(10,false)"
   ]
  },
  {
   "cell_type": "code",
   "execution_count": 22,
   "id": "fd18a117",
   "metadata": {},
   "outputs": [
    {
     "name": "stdout",
     "output_type": "stream",
     "text": [
      "+----------------------+---------+-------------+\n",
      "|cn                    |avg(temp)|avg(humidity)|\n",
      "+----------------------+---------+-------------+\n",
      "|Monaco                |34.0     |91.0         |\n",
      "|Anguilla              |34.0     |83.0         |\n",
      "|British Virgin Islands|34.0     |81.0         |\n",
      "|Turkmenistan          |34.0     |80.0         |\n",
      "|Suriname              |34.0     |79.0         |\n",
      "|Gibraltar             |34.0     |78.0         |\n",
      "|Liechtenstein         |34.0     |76.0         |\n",
      "|Vanuatu               |33.5     |84.0         |\n",
      "|Cameroon              |33.0     |91.0         |\n",
      "|Fiji                  |33.0     |78.0         |\n",
      "+----------------------+---------+-------------+\n",
      "only showing top 10 rows\n",
      "\r\n"
     ]
    }
   ],
   "source": [
    "ds.filter($\"temp\" > 25 && $\"humidity\" > 75)\n",
    "  .select(\"temp\", \"humidity\", \"cn\")\n",
    "  .groupBy($\"cn\")\n",
    "  .avg()\n",
    "  .sort($\"avg(temp)\".desc, $\"avg(humidity)\".desc).as(\"avg_humidity\").show(10, false)"
   ]
  },
  {
   "cell_type": "code",
   "execution_count": 23,
   "id": "b833b6a8",
   "metadata": {},
   "outputs": [
    {
     "name": "stdout",
     "output_type": "stream",
     "text": [
      "+---------+---------+-------------+-------------+--------------+--------------+------------------+------------------+\n",
      "|min(temp)|max(temp)|min(humidity)|max(humidity)|min(c02_level)|max(c02_level)|min(battery_level)|max(battery_level)|\n",
      "+---------+---------+-------------+-------------+--------------+--------------+------------------+------------------+\n",
      "|       10|       34|           25|           99|           800|          1599|                 0|                 9|\n",
      "+---------+---------+-------------+-------------+--------------+--------------+------------------+------------------+\n",
      "\r\n"
     ]
    },
    {
     "data": {
      "text/plain": [
       "import org.apache.spark.sql.functions._\r\n"
      ]
     },
     "execution_count": 23,
     "metadata": {},
     "output_type": "execute_result"
    }
   ],
   "source": [
    "import org.apache.spark.sql.functions._ \n",
    "\n",
    "ds.select(min(\"temp\"), max(\"temp\"), min(\"humidity\"), max(\"humidity\"), min(\"c02_level\"), max(\"c02_level\"), min(\"battery_level\"), max(\"battery_level\")).show(10)"
   ]
  },
  {
   "cell_type": "code",
   "execution_count": null,
   "id": "650dfb78",
   "metadata": {},
   "outputs": [],
   "source": [
    "/* \n",
    "El último parámetro de StructField(‘Delay’, FloatType(), True) significa que el campo “Delay” puede ser nulo.\n",
    "En caso de ser False, no podría ser nulo. \n",
    "*/"
   ]
  },
  {
   "cell_type": "code",
   "execution_count": null,
   "id": "5acdb57e",
   "metadata": {},
   "outputs": [],
   "source": [
    "/*\n",
    "Los DataSets son colecciones de objetos fuertemente tipados y los DataFrames son DataSets sin tipado. \n",
    "En Scala, un DataFrame es un alias para un DataSet[Row], siendo Row un objeto JVM genérico sin tipado \n",
    "que puede contener diferentes tipos de campos. \n",
    "*/"
   ]
  },
  {
   "cell_type": "code",
   "execution_count": 15,
   "id": "88bc9ec4",
   "metadata": {},
   "outputs": [],
   "source": [
    "// Guardando en parquet\n",
    "fire_ts_df.write.format(\"parquet\").mode(\"overwrite\").save(\"C:/Users/alvaro.romero/Big_Data/Ejercicios_Spark/Guardar_Tablas/Parquet\")"
   ]
  },
  {
   "cell_type": "code",
   "execution_count": 16,
   "id": "7e95a693",
   "metadata": {},
   "outputs": [],
   "source": [
    "// Guardando en json\n",
    "fire_ts_df.write.format(\"json\").mode(\"overwrite\").save(\"C:/Users/alvaro.romero/Big_Data/Ejercicios_Spark/Guardar_Tablas/JSON/\")"
   ]
  },
  {
   "cell_type": "code",
   "execution_count": 17,
   "id": "9bc791c0",
   "metadata": {},
   "outputs": [],
   "source": [
    "// Guardando en csv\n",
    "fire_ts_df.write.format(\"csv\").mode(\"overwrite\").save(\"C:/Users/alvaro.romero/Big_Data/Ejercicios_Spark/Guardar_Tablas/CSV/\")"
   ]
  },
  {
   "cell_type": "code",
   "execution_count": 18,
   "id": "0a8ac308",
   "metadata": {},
   "outputs": [],
   "source": [
    "// Guardando en avro\n",
    "fire_ts_df.write.format(\"avro\").mode(\"overwrite\").save(\"C:/Users/alvaro.romero/Big_Data/Ejercicios_Spark/Guardar_Tablas/AVRO/\")"
   ]
  },
  {
   "cell_type": "code",
   "execution_count": 25,
   "id": "1aa329a5",
   "metadata": {},
   "outputs": [
    {
     "data": {
      "text/plain": [
       "prueba_fire_ts_df: org.apache.spark.sql.Dataset[org.apache.spark.sql.Row] = [CallNumber: int, UnitID: string ... 26 more fields]\r\n",
       "res18: Int = 1\r\n"
      ]
     },
     "execution_count": 25,
     "metadata": {},
     "output_type": "execute_result"
    }
   ],
   "source": [
    "// Hay más de un fichero debido a las particiones.\n",
    "// El comando getNumPartitions en el RDD sirve para obtener el número de particiones de un DataFrame\n",
    "fire_ts_df.rdd.getNumPartitions.show()\n",
    "// El comando coalesce en el RDD sirve para reducir el número de particiones de un DataFrame\n",
    "// El comando partition en el RDD sirve para aumentar el número de particiones de un DataFrame\n",
    "val prueba_fire_ts_df = fire_ts_df.coalesce(1)\n",
    "prueba_fire_ts_df.rdd.getNumPartitions"
   ]
  },
  {
   "cell_type": "code",
   "execution_count": 26,
   "id": "2d694997",
   "metadata": {},
   "outputs": [],
   "source": [
    "// Guardando en parquet\n",
    "prueba_fire_ts_df.write.format(\"parquet\").mode(\"overwrite\").save(\"C:/Users/alvaro.romero/Big_Data/Ejercicios_Spark/Guardar_Tablas2/Parquet\")"
   ]
  },
  {
   "cell_type": "code",
   "execution_count": 27,
   "id": "d3f482c6",
   "metadata": {},
   "outputs": [],
   "source": [
    "// Guardando en json\n",
    "prueba_fire_ts_df.write.format(\"json\").mode(\"overwrite\").save(\"C:/Users/alvaro.romero/Big_Data/Ejercicios_Spark/Guardar_Tablas2/JSON/\")"
   ]
  },
  {
   "cell_type": "code",
   "execution_count": 28,
   "id": "223354f8",
   "metadata": {},
   "outputs": [],
   "source": [
    "// Guardando en csv\n",
    "prueba_fire_ts_df.write.format(\"csv\").mode(\"overwrite\").save(\"C:/Users/alvaro.romero/Big_Data/Ejercicios_Spark/Guardar_Tablas2/CSV/\")"
   ]
  },
  {
   "cell_type": "code",
   "execution_count": 29,
   "id": "8a32e3ed",
   "metadata": {},
   "outputs": [],
   "source": [
    "// Guardando en avro\n",
    "prueba_fire_ts_df.write.format(\"avro\").mode(\"overwrite\").save(\"C:/Users/alvaro.romero/Big_Data/Ejercicios_Spark/Guardar_Tablas2/AVRO/\")"
   ]
  },
  {
   "cell_type": "code",
   "execution_count": null,
   "id": "190a0682",
   "metadata": {},
   "outputs": [],
   "source": []
  }
 ],
 "metadata": {
  "kernelspec": {
   "display_name": "spylon-kernel",
   "language": "scala",
   "name": "spylon-kernel"
  },
  "language_info": {
   "codemirror_mode": "text/x-scala",
   "file_extension": ".scala",
   "help_links": [
    {
     "text": "MetaKernel Magics",
     "url": "https://metakernel.readthedocs.io/en/latest/source/README.html"
    }
   ],
   "mimetype": "text/x-scala",
   "name": "scala",
   "pygments_lexer": "scala",
   "version": "0.4.1"
  }
 },
 "nbformat": 4,
 "nbformat_minor": 5
}
