{
 "cells": [
  {
   "cell_type": "code",
   "execution_count": 2,
   "id": "2e92eb66",
   "metadata": {},
   "outputs": [],
   "source": [
    "from pyspark.sql import SparkSession\n",
    "from pyspark.sql.functions import count\n",
    "# Build a SparkSession using the SparkSession APIs.\n",
    "# If one does not exist, then create an instance. There\n",
    "# can only be one SparkSession per JVM.\n",
    "spark = (SparkSession\n",
    " .builder\n",
    " .appName(\"PythonMnMCount\")\n",
    " .getOrCreate())\n",
    "# Get the M&M data set"
   ]
  },
  {
   "cell_type": "code",
   "execution_count": 3,
   "id": "bc721552",
   "metadata": {},
   "outputs": [
    {
     "name": "stdout",
     "output_type": "stream",
     "text": [
      "+-----+------+-----+\n",
      "|State|Color |Count|\n",
      "+-----+------+-----+\n",
      "|TX   |Red   |20   |\n",
      "|NV   |Blue  |66   |\n",
      "|CO   |Blue  |79   |\n",
      "|OR   |Blue  |71   |\n",
      "|WA   |Yellow|93   |\n",
      "+-----+------+-----+\n",
      "only showing top 5 rows\n",
      "\n"
     ]
    }
   ],
   "source": [
    "\n",
    "    # get the M&M data set file name\n",
    "    mnmFile = \"C:/Users/alvaro.romero/Big_Data/LearningSparkV2-master/chapter2/py/src/data/mnm_dataset.csv\"\n",
    "    # read the file into a Spark DataFrame\n",
    "    mnmDF = (spark.read.format(\"csv\")\n",
    "      .option(\"header\", \"true\")\n",
    "      .option(\"inferSchema\", \"true\")\n",
    "      .load(mnmFile))\n",
    "    # display DataFrame\n",
    "    mnmDF.show(5, False)"
   ]
  },
  {
   "cell_type": "code",
   "execution_count": 4,
   "id": "268e06a6",
   "metadata": {},
   "outputs": [],
   "source": [
    "# Crear TempView\n",
    "mnmDF.createOrReplaceTempView(\"mnmDFView\")"
   ]
  },
  {
   "cell_type": "code",
   "execution_count": 15,
   "id": "b416f8fe",
   "metadata": {},
   "outputs": [
    {
     "name": "stdout",
     "output_type": "stream",
     "text": [
      "+-----+------+-----+\n",
      "|State| Color|Total|\n",
      "+-----+------+-----+\n",
      "|   CA|Yellow| 1807|\n",
      "|   WA| Green| 1779|\n",
      "|   OR|Orange| 1743|\n",
      "|   TX| Green| 1737|\n",
      "|   TX|   Red| 1725|\n",
      "|   CA| Green| 1723|\n",
      "|   CO|Yellow| 1721|\n",
      "|   CA| Brown| 1718|\n",
      "|   CO| Green| 1713|\n",
      "|   NV|Orange| 1712|\n",
      "|   TX|Yellow| 1703|\n",
      "|   NV| Green| 1698|\n",
      "|   AZ| Brown| 1698|\n",
      "|   CO|  Blue| 1695|\n",
      "|   WY| Green| 1695|\n",
      "|   NM|   Red| 1690|\n",
      "|   AZ|Orange| 1689|\n",
      "|   NM|Yellow| 1688|\n",
      "|   NM| Brown| 1687|\n",
      "|   UT|Orange| 1684|\n",
      "|   NM| Green| 1682|\n",
      "|   UT|   Red| 1680|\n",
      "|   AZ| Green| 1676|\n",
      "|   NV|Yellow| 1675|\n",
      "|   NV|  Blue| 1673|\n",
      "|   WA|   Red| 1671|\n",
      "|   WY|   Red| 1670|\n",
      "|   WA| Brown| 1669|\n",
      "|   NM|Orange| 1665|\n",
      "|   WY|  Blue| 1664|\n",
      "|   WA|Yellow| 1663|\n",
      "|   WA|Orange| 1658|\n",
      "|   NV| Brown| 1657|\n",
      "|   CA|Orange| 1657|\n",
      "|   CO| Brown| 1656|\n",
      "|   CA|   Red| 1656|\n",
      "|   UT|  Blue| 1655|\n",
      "|   AZ|Yellow| 1654|\n",
      "|   TX|Orange| 1652|\n",
      "|   AZ|   Red| 1648|\n",
      "|   OR|  Blue| 1646|\n",
      "|   OR|   Red| 1645|\n",
      "|   UT|Yellow| 1645|\n",
      "|   CO|Orange| 1642|\n",
      "|   TX| Brown| 1641|\n",
      "|   NM|  Blue| 1638|\n",
      "|   AZ|  Blue| 1636|\n",
      "|   OR| Green| 1634|\n",
      "|   UT| Brown| 1631|\n",
      "|   WY|Yellow| 1626|\n",
      "|   WA|  Blue| 1625|\n",
      "|   CO|   Red| 1624|\n",
      "|   OR| Brown| 1621|\n",
      "|   TX|  Blue| 1614|\n",
      "|   OR|Yellow| 1614|\n",
      "|   NV|   Red| 1610|\n",
      "|   CA|  Blue| 1603|\n",
      "|   WY|Orange| 1595|\n",
      "|   UT| Green| 1591|\n",
      "|   WY| Brown| 1532|\n",
      "+-----+------+-----+\n",
      "\n",
      "Total Rows = 60\n"
     ]
    }
   ],
   "source": [
    "    # aggregate count of all colors and groupBy state and color\n",
    "    # orderBy descending order\n",
    "\n",
    "    countMnMDF = (mnmDF\n",
    "     .select(\"State\", \"Color\", \"Count\")\n",
    "     .groupBy(\"State\", \"Color\")\n",
    "     .agg(count(\"Count\").alias(\"Total\"))\n",
    "     .orderBy(\"Total\",ascending=False))\n",
    "\n",
    "    # show all the resulting aggregation for all the dates and colors\n",
    "    countMnMDF.show(60)\n",
    "    print(\"Total Rows = %d\" % (countMnMDF.count()))"
   ]
  },
  {
   "cell_type": "code",
   "execution_count": 10,
   "id": "40246bdd",
   "metadata": {},
   "outputs": [
    {
     "name": "stdout",
     "output_type": "stream",
     "text": [
      "+-----+------+-----+\n",
      "|State| Color|Total|\n",
      "+-----+------+-----+\n",
      "|   CA|Yellow| 1807|\n",
      "|   WA| Green| 1779|\n",
      "|   OR|Orange| 1743|\n",
      "|   TX| Green| 1737|\n",
      "|   TX|   Red| 1725|\n",
      "|   CA| Green| 1723|\n",
      "|   CO|Yellow| 1721|\n",
      "|   CA| Brown| 1718|\n",
      "|   CO| Green| 1713|\n",
      "|   NV|Orange| 1712|\n",
      "|   TX|Yellow| 1703|\n",
      "|   AZ| Brown| 1698|\n",
      "|   NV| Green| 1698|\n",
      "|   WY| Green| 1695|\n",
      "|   CO|  Blue| 1695|\n",
      "|   NM|   Red| 1690|\n",
      "|   AZ|Orange| 1689|\n",
      "|   NM|Yellow| 1688|\n",
      "|   NM| Brown| 1687|\n",
      "|   UT|Orange| 1684|\n",
      "+-----+------+-----+\n",
      "only showing top 20 rows\n",
      "\n"
     ]
    }
   ],
   "source": [
    "# Haciendo lo mismo usando tempViews y Spark SQL\n",
    "spark.sql(\"\"\"SELECT State, Color, count(*) as Total\n",
    "             FROM mnmDFView\n",
    "             GROUP BY State, Color\n",
    "             ORDER BY Total desc\"\"\").show()"
   ]
  },
  {
   "cell_type": "code",
   "execution_count": 23,
   "id": "1245d469",
   "metadata": {},
   "outputs": [
    {
     "name": "stdout",
     "output_type": "stream",
     "text": [
      "+-----+------+----------+\n",
      "|State|Color |sum(Count)|\n",
      "+-----+------+----------+\n",
      "|CA   |Yellow|100956    |\n",
      "|WA   |Green |96486     |\n",
      "|CA   |Brown |95762     |\n",
      "|TX   |Green |95753     |\n",
      "|TX   |Red   |95404     |\n",
      "|CO   |Yellow|95038     |\n",
      "|NM   |Red   |94699     |\n",
      "|OR   |Orange|94514     |\n",
      "|WY   |Green |94339     |\n",
      "|NV   |Orange|93929     |\n",
      "+-----+------+----------+\n",
      "only showing top 10 rows\n",
      "\n"
     ]
    }
   ],
   "source": [
    "sumMnMDF = (mnmDF.select(\"State\", \"Color\", \"Count\")\n",
    "        .groupBy(\"State\", \"Color\")\n",
    "        .sum(\"Count\")\n",
    "        .orderBy(\"sum(Count)\",ascending=False))\n",
    "\n",
    "sumMnMDF.show(10,False)"
   ]
  },
  {
   "cell_type": "code",
   "execution_count": 24,
   "id": "643681b4",
   "metadata": {},
   "outputs": [
    {
     "name": "stdout",
     "output_type": "stream",
     "text": [
      "+-----+------+------+\n",
      "|State|Color |Suma  |\n",
      "+-----+------+------+\n",
      "|CA   |Yellow|100956|\n",
      "|WA   |Green |96486 |\n",
      "|CA   |Brown |95762 |\n",
      "|TX   |Green |95753 |\n",
      "|TX   |Red   |95404 |\n",
      "|CO   |Yellow|95038 |\n",
      "|NM   |Red   |94699 |\n",
      "|OR   |Orange|94514 |\n",
      "|WY   |Green |94339 |\n",
      "|NV   |Orange|93929 |\n",
      "+-----+------+------+\n",
      "only showing top 10 rows\n",
      "\n"
     ]
    }
   ],
   "source": [
    "# Haciendo lo mismo usando tempViews y Spark SQL\n",
    "spark.sql(\"\"\"SELECT State, Color, sum(Count) as Suma\n",
    "             FROM mnmDFView\n",
    "             GROUP BY State, Color\n",
    "             ORDER BY sum(Count) desc\"\"\").show(10,False)"
   ]
  },
  {
   "cell_type": "code",
   "execution_count": 25,
   "id": "8dcb8def",
   "metadata": {},
   "outputs": [
    {
     "name": "stdout",
     "output_type": "stream",
     "text": [
      "+-----+------+-----+\n",
      "|State| Color|Total|\n",
      "+-----+------+-----+\n",
      "|   CA|Yellow| 1807|\n",
      "|   CA| Green| 1723|\n",
      "|   CA| Brown| 1718|\n",
      "|   CA|Orange| 1657|\n",
      "|   CA|   Red| 1656|\n",
      "|   CA|  Blue| 1603|\n",
      "+-----+------+-----+\n",
      "\n"
     ]
    }
   ],
   "source": [
    "   # find the aggregate count for California by filtering\n",
    "\n",
    "caCountMnNDF = (mnmDF\n",
    "     .select(\"State\", \"Color\", \"Count\")\n",
    "     .where(mnmDF.State == \"CA\")\n",
    "     .groupBy(\"State\", \"Color\")\n",
    "     .agg(count(\"Count\").alias(\"Total\"))\n",
    "     .orderBy(\"Total\",ascending=False))\n",
    "\n",
    "    # show the resulting aggregation for California\n",
    "caCountMnNDF.show(10)"
   ]
  },
  {
   "cell_type": "code",
   "execution_count": 27,
   "id": "2578cbd2",
   "metadata": {},
   "outputs": [
    {
     "name": "stdout",
     "output_type": "stream",
     "text": [
      "+-----+------+-----+\n",
      "|State| Color|Total|\n",
      "+-----+------+-----+\n",
      "|   CA|Yellow| 1807|\n",
      "|   CA| Green| 1723|\n",
      "|   CA| Brown| 1718|\n",
      "|   CA|Orange| 1657|\n",
      "|   CA|   Red| 1656|\n",
      "|   CA|  Blue| 1603|\n",
      "+-----+------+-----+\n",
      "\n"
     ]
    }
   ],
   "source": [
    "# Haciendo lo mismo usando tempViews y Spark SQL\n",
    "spark.sql(\"\"\"SELECT State, Color, count(*) as Total\n",
    "             FROM mnmDFView\n",
    "             WHERE State== 'CA'\n",
    "             GROUP BY State, Color\n",
    "             ORDER BY Total desc\"\"\").show(10)"
   ]
  },
  {
   "cell_type": "code",
   "execution_count": 18,
   "id": "c278bb69",
   "metadata": {},
   "outputs": [
    {
     "name": "stdout",
     "output_type": "stream",
     "text": [
      "+-----+------+----------+\n",
      "|State|Color |sum(Count)|\n",
      "+-----+------+----------+\n",
      "|CA   |Yellow|100956    |\n",
      "|CA   |Brown |95762     |\n",
      "|CA   |Green |93505     |\n",
      "|CA   |Red   |91527     |\n",
      "|CA   |Orange|90311     |\n",
      "|CA   |Blue  |89123     |\n",
      "+-----+------+----------+\n",
      "\n"
     ]
    }
   ],
   "source": [
    "caSumMnNDF = (mnmDF.select(\"*\")\n",
    "      .where(mnmDF.State == \"CA\")\n",
    "      .groupBy(\"State\", \"Color\")\n",
    "      .sum(\"Count\")\n",
    "      .orderBy(\"sum(Count)\",ascending=False))\n",
    "\n",
    "caSumMnNDF.show(10,False)"
   ]
  },
  {
   "cell_type": "code",
   "execution_count": 31,
   "id": "170a124b",
   "metadata": {},
   "outputs": [
    {
     "name": "stdout",
     "output_type": "stream",
     "text": [
      "+-----+------+------+\n",
      "|State|Color |Suma  |\n",
      "+-----+------+------+\n",
      "|CA   |Yellow|100956|\n",
      "|CA   |Brown |95762 |\n",
      "|CA   |Green |93505 |\n",
      "|CA   |Red   |91527 |\n",
      "|CA   |Orange|90311 |\n",
      "|CA   |Blue  |89123 |\n",
      "+-----+------+------+\n",
      "\n"
     ]
    }
   ],
   "source": [
    "# Haciendo lo mismo usando tempViews y Spark SQL\n",
    "spark.sql(\"\"\"SELECT State, Color, sum(Count) as Suma\n",
    "             FROM mnmDFView\n",
    "             WHERE State == 'CA'\n",
    "             GROUP BY State, Color\n",
    "             ORDER BY Suma desc\"\"\").show(10, False)"
   ]
  },
  {
   "cell_type": "code",
   "execution_count": 36,
   "id": "0641f796",
   "metadata": {},
   "outputs": [
    {
     "name": "stdout",
     "output_type": "stream",
     "text": [
      "+---+---+-----------------+------+\n",
      "|Max|Min|              Avg|Cuenta|\n",
      "+---+---+-----------------+------+\n",
      "|100| 10|55.00090000900009| 99999|\n",
      "+---+---+-----------------+------+\n",
      "\n"
     ]
    }
   ],
   "source": [
    "from pyspark.sql.functions import *\n",
    "caCountMnNDF = mnmDF.select(max(\"Count\").alias(\"Max\"),min(\"Count\").alias(\"Min\"),avg(\"Count\").alias(\"Avg\"),count(\"*\").alias(\"Cuenta\"))\n",
    "\n",
    "caCountMnNDF.show(10)"
   ]
  },
  {
   "cell_type": "code",
   "execution_count": 33,
   "id": "e34ff202",
   "metadata": {},
   "outputs": [
    {
     "name": "stdout",
     "output_type": "stream",
     "text": [
      "+---+---+-----------------+------+\n",
      "|Max|Min|              Avg|Cuenta|\n",
      "+---+---+-----------------+------+\n",
      "|100| 10|55.00090000900009| 99999|\n",
      "+---+---+-----------------+------+\n",
      "\n"
     ]
    }
   ],
   "source": [
    "# Haciendo lo mismo usando tempViews y Spark SQL\n",
    "spark.sql(\"\"\"SELECT max(Count) as Max, min(Count) as Min, avg(Count) as Avg, count(*) as Cuenta\n",
    "             FROM mnmDFView\"\"\").show(10)"
   ]
  },
  {
   "cell_type": "code",
   "execution_count": 5,
   "id": "f2f33243",
   "metadata": {},
   "outputs": [
    {
     "name": "stdout",
     "output_type": "stream",
     "text": [
      "root\n",
      " |-- State: string (nullable = true)\n",
      " |-- Color: string (nullable = true)\n",
      " |-- Count: integer (nullable = true)\n",
      "\n"
     ]
    }
   ],
   "source": [
    "mnm_df.printSchema()"
   ]
  },
  {
   "cell_type": "code",
   "execution_count": 21,
   "id": "d729e132",
   "metadata": {
    "scrolled": false
   },
   "outputs": [
    {
     "name": "stdout",
     "output_type": "stream",
     "text": [
      "+----------------------------------------------------------------------------------------------+\n",
      "|value                                                                                         |\n",
      "+----------------------------------------------------------------------------------------------+\n",
      "|DON QUIJOTE DE LA MANCHA                                                                      |\n",
      "|Miguel de Cervantes Saavedra                                                                  |\n",
      "|                                                                                              |\n",
      "|PRIMERA PARTE                                                                                 |\n",
      "|CAPÍTULO 1: Que trata de la condición y ejercicio del famoso hidalgo D. Quijote de la Mancha|\n",
      "+----------------------------------------------------------------------------------------------+\n",
      "only showing top 5 rows\n",
      "\n"
     ]
    }
   ],
   "source": [
    "    quijote=\"C:/Users/alvaro.romero/Big_Data/Ejercicios_Spark/el_quijote.txt\"\n",
    "    qj_df = (spark.read.format(\"text\")\n",
    "        .option(\"header\", \"true\")\n",
    "        .option(\"inferSchema\", \"true\")\n",
    "        .load(quijote))\n",
    "    qj_df.show(n=5,truncate=False)"
   ]
  },
  {
   "cell_type": "code",
   "execution_count": 22,
   "id": "d8af3ef6",
   "metadata": {},
   "outputs": [
    {
     "name": "stdout",
     "output_type": "stream",
     "text": [
      "+--------------------+\n",
      "|               value|\n",
      "+--------------------+\n",
      "|DON QUIJOTE DE LA...|\n",
      "|Miguel de Cervant...|\n",
      "|                    |\n",
      "|       PRIMERA PARTE|\n",
      "|CAPÍTULO 1: Que ...|\n",
      "|En un lugar de la...|\n",
      "|Tuvo muchas veces...|\n",
      "|En resolución, e...|\n",
      "|historia más cie...|\n",
      "|Decía él, que e...|\n",
      "|En efecto, remata...|\n",
      "|Imaginábase el p...|\n",
      "|linaje y patria, ...|\n",
      "|Limpias, pues, su...|\n",
      "|Capítulo 2: Que ...|\n",
      "|Hechas, pues, est...|\n",
      "|Estos pensamiento...|\n",
      "|Con estos iba ens...|\n",
      "|Autores hay que d...|\n",
      "|muertos de hambre...|\n",
      "+--------------------+\n",
      "only showing top 20 rows\n",
      "\n"
     ]
    }
   ],
   "source": [
    "qj_df.show()"
   ]
  },
  {
   "cell_type": "code",
   "execution_count": 23,
   "id": "04f9593c",
   "metadata": {},
   "outputs": [
    {
     "name": "stdout",
     "output_type": "stream",
     "text": [
      "+--------------------+\n",
      "|               value|\n",
      "+--------------------+\n",
      "|DON QUIJOTE DE LA...|\n",
      "|Miguel de Cervant...|\n",
      "|                    |\n",
      "|       PRIMERA PARTE|\n",
      "|CAPÍTULO 1: Que ...|\n",
      "+--------------------+\n",
      "only showing top 5 rows\n",
      "\n"
     ]
    }
   ],
   "source": [
    "qj_df.show(5)"
   ]
  },
  {
   "cell_type": "code",
   "execution_count": 24,
   "id": "7e1d3b56",
   "metadata": {},
   "outputs": [
    {
     "data": {
      "text/plain": [
       "2186"
      ]
     },
     "execution_count": 24,
     "metadata": {},
     "output_type": "execute_result"
    }
   ],
   "source": [
    "qj_df.count()"
   ]
  },
  {
   "cell_type": "code",
   "execution_count": 25,
   "id": "bd430bf6",
   "metadata": {},
   "outputs": [
    {
     "data": {
      "text/plain": [
       "Row(value='DON QUIJOTE DE LA MANCHA')"
      ]
     },
     "execution_count": 25,
     "metadata": {},
     "output_type": "execute_result"
    }
   ],
   "source": [
    "qj_df.first()\n",
    "\n",
    "# Devuelve la primera línea"
   ]
  },
  {
   "cell_type": "code",
   "execution_count": 26,
   "id": "065cdcab",
   "metadata": {},
   "outputs": [
    {
     "data": {
      "text/plain": [
       "Row(value='DON QUIJOTE DE LA MANCHA')"
      ]
     },
     "execution_count": 26,
     "metadata": {},
     "output_type": "execute_result"
    }
   ],
   "source": [
    "qj_df.head()\n",
    "\n",
    "# Devuelve la cabecera"
   ]
  },
  {
   "cell_type": "code",
   "execution_count": 27,
   "id": "b610a520",
   "metadata": {},
   "outputs": [
    {
     "data": {
      "text/plain": [
       "[Row(value='DON QUIJOTE DE LA MANCHA'),\n",
       " Row(value='Miguel de Cervantes Saavedra'),\n",
       " Row(value=''),\n",
       " Row(value='PRIMERA PARTE'),\n",
       " Row(value='CAPÍTULO 1: Que trata de la condición y ejercicio del famoso hidalgo D. Quijote de la Mancha')]"
      ]
     },
     "execution_count": 27,
     "metadata": {},
     "output_type": "execute_result"
    }
   ],
   "source": [
    "qj_df.take(5)\n",
    "\n",
    "# Devuelve las 5 primeras líneas"
   ]
  },
  {
   "cell_type": "code",
   "execution_count": null,
   "id": "d34b8472",
   "metadata": {},
   "outputs": [],
   "source": []
  }
 ],
 "metadata": {
  "kernelspec": {
   "display_name": "Python 3",
   "language": "python",
   "name": "python3"
  },
  "language_info": {
   "codemirror_mode": {
    "name": "ipython",
    "version": 3
   },
   "file_extension": ".py",
   "mimetype": "text/x-python",
   "name": "python",
   "nbconvert_exporter": "python",
   "pygments_lexer": "ipython3",
   "version": "3.8.8"
  }
 },
 "nbformat": 4,
 "nbformat_minor": 5
}
