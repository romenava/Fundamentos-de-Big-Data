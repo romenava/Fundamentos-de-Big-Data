{
 "cells": [
  {
   "cell_type": "markdown",
   "id": "7810bfe7-9a99-4661-b0ae-398645314a28",
   "metadata": {},
   "source": [
    "# **Reto II**"
   ]
  },
  {
   "cell_type": "markdown",
   "id": "991460d3-46be-4619-b92b-095c8aa22e71",
   "metadata": {},
   "source": [
    "### 1. Dataset\n",
    "\n",
    "Los datos de origen son proporcionados en un archivos csv:\n",
    "\n",
    "* udfs: dataset con datos de operaciones financieras.\n",
    "\n",
    "### 2. Columnas y significado:\n",
    "\n",
    "* nb: número de referencia de la operación.\n",
    "* contract: identificador de contrato.\n",
    "* udf_ref: identificador de operación de trading.\n",
    "* fmly: familia a la que pertenece la operación financiera.\n",
    "* grp: grupo al que pertenece la operación financiera.\n",
    "* type: tipo de operación financiera.\n",
    "* country: país de origen de la operación.\n",
    "* udf_name: campo informado en el registro.\n",
    "* num_value: valor numérico.\n",
    "* string_value: valor de cadena de caracteres.\n",
    "* date_value: valor de fecha.\n",
    "* data_timestamp_part: marca temporal.\n",
    "* data_date_part: fecha en la que se almacena la información.\n",
    "* source_system: fuente de los datos.\n",
    "\n",
    "### 3. Descripción del problema:\n",
    "\n",
    "Si hacemos una visión general a nuestro conjunto de datos, podemos observar como hay hasta 10 registros (filas) para cada valor de *nb*, donde cada registro solo da información para un valor de *udf_name*. Esto es un gasto innecesario de almacenamiento y computación, además de complicar los futuros cálculos derivados de estos datos. Por esta razón, necesitamos convertir estos registros con el mismo *nb* a un solo registro.\n",
    "\n",
    "Nuestro dataframe final tendrá que contener las siguientes columnas: `nb, M_CCY, M_CLIENT, M_CRDTCHRG, M_DIRECTIAV, M_DISCMARGIN, M_LIQDTYCHRG, M_MVA, M_RVA, M_SELLER, M_SUCURSAL`\n",
    "\n",
    "* nb: debe contener el número de referencia de la operación.\n",
    "* M_CLIENT, M_SELLER, M_CCY, M_SUCURSAL: deben mapear el valor de *string_value*\n",
    "* M_DISCMARGIN, M_DIRECTIAV, M_LIQDTYCHRG, M_CRDTCHRG, , M_MVA, M_RVA: deben mapear el valor de *num_value*\n",
    "\n",
    "\n",
    "Una vez tengamos este resultado, necesitaremos eliminar las operaciones que no tengan informados ninguno de los siguientes campos:\n",
    "\n",
    "M_DISCMARGIN, M_DIRECTIAV, M_LIQDTYCHRG, M_CRDTCHRG, M_MVA, M_RVA, M_SELLER\n",
    "\n",
    "No informados en este caso significa que o son valores nulos, vacíos o 0, en el caso de los campos numéricos.\n",
    "\n",
    "### 4. Reto:\n",
    "\n",
    "* Obtener un dataframe final que contenga las columnas indicadas, con un registro por *nb* y con los valores correctos mapeados.\n",
    "* Las operaciones con los campos M_DISCMARGIN, M_DIRECTIAV, M_LIQDTYCHRG, M_CRDTCHRG, , M_MVA, M_RVA, M_SELLER no informados no deben existir.\n",
    "* Hacerlo de la manera más eficiente posible a nivel computacional.\n",
    "\n",
    "**NOTA:** Cada uno de los pasos descritos en el problema pueden efectuarse en una sola línea."
   ]
  },
  {
   "cell_type": "markdown",
   "id": "01b9d0f8-6824-4c6a-9c8d-e189cc012e6a",
   "metadata": {},
   "source": [
    "### Inicialización de SparkSession:"
   ]
  },
  {
   "cell_type": "code",
   "execution_count": 2,
   "id": "d23122c1-afdd-4b5d-935b-15ba433a036f",
   "metadata": {},
   "outputs": [
    {
     "data": {
      "text/plain": [
       "import org.apache.spark.sql.SparkSession\r\n",
       "spark: org.apache.spark.sql.SparkSession = org.apache.spark.sql.SparkSession@4f7b1723\r\n"
      ]
     },
     "execution_count": 2,
     "metadata": {},
     "output_type": "execute_result"
    }
   ],
   "source": [
    "import org.apache.spark.sql.SparkSession\n",
    "\n",
    "val spark = SparkSession.builder()\n",
    "                        .appName(\"Reto 1\")\n",
    "                        .master(\"local\")\n",
    "                        .getOrCreate()"
   ]
  },
  {
   "cell_type": "code",
   "execution_count": 3,
   "id": "6317b0bd-48ef-4598-9391-a04128d51dea",
   "metadata": {},
   "outputs": [
    {
     "data": {
      "text/plain": [
       "udfs: org.apache.spark.sql.DataFrame = [nb: string, contract: string ... 12 more fields]\r\n"
      ]
     },
     "execution_count": 3,
     "metadata": {},
     "output_type": "execute_result"
    }
   ],
   "source": [
    "val udfs = spark.read.format(\"csv\")\n",
    "                     .option(\"header\", \"true\")\n",
    "                     .option(\"delimiter\", \";\")\n",
    "                     .load(\"./reto2/udfs.csv\")"
   ]
  },
  {
   "cell_type": "code",
   "execution_count": 23,
   "id": "9ad29164",
   "metadata": {},
   "outputs": [
    {
     "name": "stdout",
     "output_type": "stream",
     "text": [
      "root\n",
      " |-- nb: string (nullable = true)\n",
      " |-- contract: string (nullable = true)\n",
      " |-- udf_ref: string (nullable = true)\n",
      " |-- fmly: string (nullable = true)\n",
      " |-- grp: string (nullable = true)\n",
      " |-- type: string (nullable = true)\n",
      " |-- country: string (nullable = true)\n",
      " |-- udf_name: string (nullable = true)\n",
      " |-- num_value: string (nullable = true)\n",
      " |-- string_value: string (nullable = true)\n",
      " |-- date_value: string (nullable = true)\n",
      " |-- data_timestamp_part: string (nullable = true)\n",
      " |-- data_date_part: string (nullable = true)\n",
      " |-- source_system: string (nullable = true)\n",
      "\r\n"
     ]
    }
   ],
   "source": [
    "udfs.printSchema()"
   ]
  },
  {
   "cell_type": "code",
   "execution_count": 139,
   "id": "f6403b6e",
   "metadata": {},
   "outputs": [
    {
     "name": "stdout",
     "output_type": "stream",
     "text": [
      "+---------+-----+--------+----------------+-----------------+---------------+---------------+--------------+--------------+----------+----------+\n",
      "|       nb|M_CCY|M_CLIENT|      M_CRDTCHRG|      M_DIRECTIAV|   M_DISCMARGIN|   M_LIQDTYCHRG|         M_MVA|         M_RVA|  M_SELLER|M_SUCURSAL|\n",
      "+---------+-----+--------+----------------+-----------------+---------------+---------------+--------------+--------------+----------+----------+\n",
      "| 20513130| null|    CCMO|  0.000000000000|   0.000000000000|             10| 0.000000000000|            20|0.000000000000|      WATT|      5493|\n",
      "| 18710605|  MXN|    null|            null|   0.000000000000|           null|           null|          null|          null|      AMAM|      null|\n",
      "| 20533916| null|    CCMO|  0.000000000000|   0.000000000000|             50| 0.000000000000|            30|0.000000000000|      WATT|      1999|\n",
      "| 23097010|  EUR|    null|            null|   0.000000000000|           null|           null|          null|          null|      AMAM|      null|\n",
      "|555111222|  USD|    null| 30.000000000000|   0.000000000000|             10|50.000000000000|            20|0.000000000000|LB_TLECLER|      1999|\n",
      "| 22784054|  EUR|    null|            null|   0.000000000000|           null|           null|          null|          null|      AMAM|      null|\n",
      "| 22798005|  EUR|    null|            null|   0.000000000000|           null|           null|          null|          null|      AMAM|      null|\n",
      "| 22853656|  BRL|    null|            null|   0.000000000000|           null|           null|          null|          null|      AMAM|      null|\n",
      "| 10000001| null|    null|              20|   0.000000000000|             10|             30|0.000000000000|0.000000000000|   SELLER1|      1999|\n",
      "| 19665186| null|    null| 20.000000000000|1200.000000000000|            100|20.000000000000|0.000000000000|0.000000000000|LB_VSTAVRE|      5493|\n",
      "| 23037162|  EUR|    null|            null|   0.000000000000|           null|           null|          null|          null|      AMAM|      null|\n",
      "| 33333333| null|    null|  0.000000000000|   0.000000000000| 0.000000000000| 0.000000000000|0.000000000000|0.000000000000|   SSSSSSS|      null|\n",
      "| 23126648|  USD|    null|            null|   0.000000000000|           null|           null|          null|          null|      AMAM|      null|\n",
      "|316391872|  EUR|    null|            null|   0.000000000000|           null|           null|          null|          null|      AMAM|      null|\n",
      "|444111222| null|    MMMM|  0.000000000000|             9056| 0.000000000000| 0.000000000000|            20|          8956|    VVVVVV|      1212|\n",
      "| 67843276|  EUR|    null|            null|   0.000000000000|           null|           null|          null|          null|      AMAM|      null|\n",
      "| 18937013|  EUR|    null|            null|   0.000000000000|           null|           null|          null|          null|      AMAM|      null|\n",
      "| 19665185| null|    null| 20.000000000000|1200.000000000000| 0.000000000000|20.000000000000|0.000000000000|0.000000000000|LB_VSTAVRE|      5493|\n",
      "|   444444| null|    null|            null|             null|           null|           null|          null|          null|      null|      null|\n",
      "| 20665178| null|    null| 20.000000000000|1200.000000000000|            100|20.000000000000|0.000000000000|0.000000000000|LB_VSTAVRE|      5493|\n",
      "| 22980629|  EUR|    null|            null|   0.000000000000|           null|           null|          null|          null|      AMAM|      null|\n",
      "| 20665177| null|    null| 20.000000000000|1200.000000000000| 0.000000000000|20.000000000000|0.000000000000|0.000000000000|LB_VSTAVRE|      5493|\n",
      "| 22535816|  EUR|    null|            null|   0.000000000000|           null|           null|          null|          null|      AMAM|      null|\n",
      "|111222333| null|    MMMM|  0.000000000000|             9056| 0.000000000000| 0.000000000000|            20|          8956|    VVVVVV|      1212|\n",
      "| 16719306|  USD|    null|            null|   0.000000000000|           null|           null|          null|          null|      AMAM|      null|\n",
      "| 23037161|  EUR|    null|            null|   0.000000000000|           null|           null|          null|          null|      AMAM|      null|\n",
      "| 10000009| null|    null|              20|   0.000000000000|             10|             30|0.000000000000|0.000000000000|   SELLER9|      1999|\n",
      "| 19772400| null|    null|              10|   0.000000000000|47.262000000000|             30|0.000000000000|0.000000000000|LB_TLECLER|      1999|\n",
      "| 79831432|  EUR|    null|            null|   0.000000000000|           null|           null|          null|          null|      AMAM|      null|\n",
      "| 20942932| null|    null|100.000000000000|   0.000000000000| 0.000000000000| 0.000000000000|0.000000000000|0.000000000000| SELLER 11|      1999|\n",
      "| 22535815|  EUR|    null|            null|   0.000000000000|           null|           null|          null|          null|      AMAM|      null|\n",
      "|222333111| null|    MMMM|  0.000000000000|             9056| 0.000000000000| 0.000000000000|            20|          8956|    VVVVVV|      1212|\n",
      "|  3815982| null|    null|  0.000000000000|   0.000000000000| 0.000000000000| 0.000000000000|0.000000000000|0.000000000000|      null|      null|\n",
      "| 22980630|  EUR|    null|            null|   0.000000000000|           null|           null|          null|          null|      AMAM|      null|\n",
      "| 20980932|  USD|    null| 20.000000000000|   0.000000000000| 0.112000000000|20.000000000000|0.000000000000|0.000000000000|CE_NGIRARD|      1999|\n",
      "| 21321178|  USD|    null|            null|   0.000000000000|           null|           null|          null|          null|      AMAM|      null|\n",
      "| 21183317| null|    null|100.000000000000|   0.000000000000| 0.000000000000| 0.000000000000|0.000000000000|0.000000000000| SELLER 10|      null|\n",
      "|556111214|  USD|    null| 30.000000000000|   0.000000000000|             10|50.000000000000|            20|0.000000000000|LB_TLECLER|      1999|\n",
      "| 22798004|  EUR|    null|            null|   0.000000000000|           null|           null|          null|          null|      AMAM|      null|\n",
      "| 18937012|  EUR|    null|            null|   0.000000000000|           null|           null|          null|          null|      AMAM|      null|\n",
      "| 18710606|  MXN|    null|            null|   0.000000000000|           null|           null|          null|          null|      AMAM|      null|\n",
      "| 21529916| null|    null|  0.000000000000|   0.000000000000| 0.000000000000| 0.000000000000|0.000000000000|0.000000000000|   SOV_GSM|      1999|\n",
      "| 20980933| null|    null| 20.000000000000|   0.000000000000| 0.112000000000|20.000000000000|0.000000000000|0.000000000000|CE_NGIRARD|      1999|\n",
      "|  2222222|  USD|    CCMO| 30.000000000000|   0.000000000000|             10|50.000000000000|            20|0.000000000000|LB_TLECLER|      1999|\n",
      "| 19772399| null|    null|  0.000000000000|   0.000000000000|47.262000000000| 0.000000000000|0.000000000000|0.000000000000|LB_TLECLER|      1999|\n",
      "| 19335398|  USD|    null|            null|   0.000000000000|           null|           null|          null|          null|      AMAM|      null|\n",
      "|333111222| null|    MMMM|  0.000000000000|             9056| 0.000000000000| 0.000000000000|            20|          8956|    VVVVVV|      1212|\n",
      "| 18343978|  GBP|    CCMO|  0.000000000000|   0.000000000000|             10| 0.000000000000|            20|0.000000000000|LB_TLECLER|      1999|\n",
      "| 21529917| null|    null|  0.000000000000|   0.000000000000| 0.000000000000| 0.000000000000|0.000000000000|0.000000000000|   SOV_GSM|      1999|\n",
      "| 22759961|  EUR|    null|            null|   0.000000000000|           null|           null|          null|          null|      AMAM|      null|\n",
      "+---------+-----+--------+----------------+-----------------+---------------+---------------+--------------+--------------+----------+----------+\n",
      "only showing top 50 rows\n",
      "\r\n"
     ]
    },
    {
     "data": {
      "text/plain": [
       "aux: org.apache.spark.sql.DataFrame = [nb: string, M_CCY: string ... 9 more fields]\r\n"
      ]
     },
     "execution_count": 139,
     "metadata": {},
     "output_type": "execute_result"
    }
   ],
   "source": [
    "val aux=udfs\n",
    ".withColumn(\"strings\", when($\"string_value\"===\"NULL\" or $\"string_value\"===\"null\",null).otherwise($\"string_value\"))\n",
    ".drop(\"string_value\")\n",
    ".withColumn(\"nums\", when($\"num_value\"===\"NULL\" or $\"num_value\"===\"null\",null).otherwise($\"num_value\"))\n",
    ".drop(\"num_value\")\n",
    ".groupBy(\"nb\")\n",
    ".pivot(\"udf_name\")\n",
    ".agg(first(coalesce($\"nums\",$\"strings\"))).drop(\"M_PRUEBA\")\n",
    "\n",
    "aux.show(50)"
   ]
  },
  {
   "cell_type": "code",
   "execution_count": 140,
   "id": "b2b405c7",
   "metadata": {},
   "outputs": [
    {
     "name": "stdout",
     "output_type": "stream",
     "text": [
      "+-----------+-----+--------+----------------+-----------------+---------------+---------------+--------------+--------------+----------+----------+\n",
      "|         nb|M_CCY|M_CLIENT|      M_CRDTCHRG|      M_DIRECTIAV|   M_DISCMARGIN|   M_LIQDTYCHRG|         M_MVA|         M_RVA|  M_SELLER|M_SUCURSAL|\n",
      "+-----------+-----+--------+----------------+-----------------+---------------+---------------+--------------+--------------+----------+----------+\n",
      "|   20513130| null|    CCMO|  0.000000000000|   0.000000000000|             10| 0.000000000000|            20|0.000000000000|      WATT|      5493|\n",
      "|   18710605|  MXN|    null|            null|   0.000000000000|           null|           null|          null|          null|      AMAM|      null|\n",
      "|   20533916| null|    CCMO|  0.000000000000|   0.000000000000|             50| 0.000000000000|            30|0.000000000000|      WATT|      1999|\n",
      "|   23097010|  EUR|    null|            null|   0.000000000000|           null|           null|          null|          null|      AMAM|      null|\n",
      "|  555111222|  USD|    null| 30.000000000000|   0.000000000000|             10|50.000000000000|            20|0.000000000000|LB_TLECLER|      1999|\n",
      "|   22784054|  EUR|    null|            null|   0.000000000000|           null|           null|          null|          null|      AMAM|      null|\n",
      "|   22798005|  EUR|    null|            null|   0.000000000000|           null|           null|          null|          null|      AMAM|      null|\n",
      "|   22853656|  BRL|    null|            null|   0.000000000000|           null|           null|          null|          null|      AMAM|      null|\n",
      "|   10000001| null|    null|              20|   0.000000000000|             10|             30|0.000000000000|0.000000000000|   SELLER1|      1999|\n",
      "|   19665186| null|    null| 20.000000000000|1200.000000000000|            100|20.000000000000|0.000000000000|0.000000000000|LB_VSTAVRE|      5493|\n",
      "|   23037162|  EUR|    null|            null|   0.000000000000|           null|           null|          null|          null|      AMAM|      null|\n",
      "|   33333333| null|    null|  0.000000000000|   0.000000000000| 0.000000000000| 0.000000000000|0.000000000000|0.000000000000|   SSSSSSS|      null|\n",
      "|   23126648|  USD|    null|            null|   0.000000000000|           null|           null|          null|          null|      AMAM|      null|\n",
      "|  316391872|  EUR|    null|            null|   0.000000000000|           null|           null|          null|          null|      AMAM|      null|\n",
      "|  444111222| null|    MMMM|  0.000000000000|             9056| 0.000000000000| 0.000000000000|            20|          8956|    VVVVVV|      1212|\n",
      "|   67843276|  EUR|    null|            null|   0.000000000000|           null|           null|          null|          null|      AMAM|      null|\n",
      "|   18937013|  EUR|    null|            null|   0.000000000000|           null|           null|          null|          null|      AMAM|      null|\n",
      "|   19665185| null|    null| 20.000000000000|1200.000000000000| 0.000000000000|20.000000000000|0.000000000000|0.000000000000|LB_VSTAVRE|      5493|\n",
      "|   20665178| null|    null| 20.000000000000|1200.000000000000|            100|20.000000000000|0.000000000000|0.000000000000|LB_VSTAVRE|      5493|\n",
      "|   22980629|  EUR|    null|            null|   0.000000000000|           null|           null|          null|          null|      AMAM|      null|\n",
      "|   20665177| null|    null| 20.000000000000|1200.000000000000| 0.000000000000|20.000000000000|0.000000000000|0.000000000000|LB_VSTAVRE|      5493|\n",
      "|   22535816|  EUR|    null|            null|   0.000000000000|           null|           null|          null|          null|      AMAM|      null|\n",
      "|  111222333| null|    MMMM|  0.000000000000|             9056| 0.000000000000| 0.000000000000|            20|          8956|    VVVVVV|      1212|\n",
      "|   16719306|  USD|    null|            null|   0.000000000000|           null|           null|          null|          null|      AMAM|      null|\n",
      "|   23037161|  EUR|    null|            null|   0.000000000000|           null|           null|          null|          null|      AMAM|      null|\n",
      "|   10000009| null|    null|              20|   0.000000000000|             10|             30|0.000000000000|0.000000000000|   SELLER9|      1999|\n",
      "|   19772400| null|    null|              10|   0.000000000000|47.262000000000|             30|0.000000000000|0.000000000000|LB_TLECLER|      1999|\n",
      "|   79831432|  EUR|    null|            null|   0.000000000000|           null|           null|          null|          null|      AMAM|      null|\n",
      "|   20942932| null|    null|100.000000000000|   0.000000000000| 0.000000000000| 0.000000000000|0.000000000000|0.000000000000| SELLER 11|      1999|\n",
      "|   22535815|  EUR|    null|            null|   0.000000000000|           null|           null|          null|          null|      AMAM|      null|\n",
      "|  222333111| null|    MMMM|  0.000000000000|             9056| 0.000000000000| 0.000000000000|            20|          8956|    VVVVVV|      1212|\n",
      "|   22980630|  EUR|    null|            null|   0.000000000000|           null|           null|          null|          null|      AMAM|      null|\n",
      "|   20980932|  USD|    null| 20.000000000000|   0.000000000000| 0.112000000000|20.000000000000|0.000000000000|0.000000000000|CE_NGIRARD|      1999|\n",
      "|   21321178|  USD|    null|            null|   0.000000000000|           null|           null|          null|          null|      AMAM|      null|\n",
      "|   21183317| null|    null|100.000000000000|   0.000000000000| 0.000000000000| 0.000000000000|0.000000000000|0.000000000000| SELLER 10|      null|\n",
      "|  556111214|  USD|    null| 30.000000000000|   0.000000000000|             10|50.000000000000|            20|0.000000000000|LB_TLECLER|      1999|\n",
      "|   22798004|  EUR|    null|            null|   0.000000000000|           null|           null|          null|          null|      AMAM|      null|\n",
      "|   18937012|  EUR|    null|            null|   0.000000000000|           null|           null|          null|          null|      AMAM|      null|\n",
      "|   18710606|  MXN|    null|            null|   0.000000000000|           null|           null|          null|          null|      AMAM|      null|\n",
      "|   21529916| null|    null|  0.000000000000|   0.000000000000| 0.000000000000| 0.000000000000|0.000000000000|0.000000000000|   SOV_GSM|      1999|\n",
      "|   20980933| null|    null| 20.000000000000|   0.000000000000| 0.112000000000|20.000000000000|0.000000000000|0.000000000000|CE_NGIRARD|      1999|\n",
      "|    2222222|  USD|    CCMO| 30.000000000000|   0.000000000000|             10|50.000000000000|            20|0.000000000000|LB_TLECLER|      1999|\n",
      "|   19772399| null|    null|  0.000000000000|   0.000000000000|47.262000000000| 0.000000000000|0.000000000000|0.000000000000|LB_TLECLER|      1999|\n",
      "|   19335398|  USD|    null|            null|   0.000000000000|           null|           null|          null|          null|      AMAM|      null|\n",
      "|  333111222| null|    MMMM|  0.000000000000|             9056| 0.000000000000| 0.000000000000|            20|          8956|    VVVVVV|      1212|\n",
      "|   18343978|  GBP|    CCMO|  0.000000000000|   0.000000000000|             10| 0.000000000000|            20|0.000000000000|LB_TLECLER|      1999|\n",
      "|   21529917| null|    null|  0.000000000000|   0.000000000000| 0.000000000000| 0.000000000000|0.000000000000|0.000000000000|   SOV_GSM|      1999|\n",
      "|   22759961|  EUR|    null|            null|   0.000000000000|           null|           null|          null|          null|      AMAM|      null|\n",
      "|   14773283| null|    null|              10|               10|            200|             10|            10|             5|      null|      5493|\n",
      "|  564367838| null|    MMMM|             234|             9056|             10|            657|            20|          8956|    VVVVVV|      1212|\n",
      "|67324678326|  EUR|    null|            null|               45|           null|           null|          null|          null|      AMAM|      null|\n",
      "|   32734782|  EUR|    null|            null|   0.000000000000|           null|           null|          null|          null|      AMAM|      null|\n",
      "|   21772250|  EUR|    null|            null|   0.000000000000|           null|           null|          null|          null|      AMAM|      null|\n",
      "|   22151902|  EUR|    null|            null|   0.000000000000|           null|           null|          null|          null|      AMAM|      null|\n",
      "|   46835781|  EUR|    null|            null|   0.000000000000|           null|           null|          null|          null|      AMAM|      null|\n",
      "|   20942931| null|    null|  0.000000000000| 100.000000000000| 0.000000000000| 0.000000000000|0.000000000000|0.000000000000| SELLER 11|      1999|\n",
      "|   22759962|  EUR|    null|            null|   0.000000000000|           null|           null|          null|          null|      AMAM|      null|\n",
      "|   20090399| null|    null|               5|               20|            100|             10|            10|            10|      null|      null|\n",
      "|    8216817|  EUR|    null|            null|   0.000000000000|           null|           null|          null|          null|      AMAM|      null|\n",
      "|   23126647|  USD|    null|            null|   0.000000000000|           null|           null|          null|          null|      AMAM|      null|\n",
      "+-----------+-----+--------+----------------+-----------------+---------------+---------------+--------------+--------------+----------+----------+\n",
      "\n"
     ]
    },
    {
     "data": {
      "text/plain": [
       "prueba: org.apache.spark.sql.Dataset[org.apache.spark.sql.Row] = [nb: string, M_CCY: string ... 9 more fields]\r\n"
      ]
     },
     "execution_count": 140,
     "metadata": {},
     "output_type": "execute_result"
    }
   ],
   "source": [
    "val prueba=aux.filter(($\"M_DISCMARGIN\".isNotNull && ($\"M_DISCMARGIN\"!==0)) ||\n",
    "                      ($\"M_DIRECTIAV\".isNotNull && ($\"M_DIRECTIAV\"!==0)) ||\n",
    "                      ($\"M_LIQDTYCHRG\".isNotNull && ($\"M_LIQDTYCHRG\"!==0)) ||\n",
    "                      ($\"M_CRDTCHRG\".isNotNull && ($\"M_CRDTCHRG\"!==0)) ||\n",
    "                      ($\"M_MVA\".isNotNull && ($\"M_MVA\"!==0)) ||\n",
    "                      ($\"M_RVA\".isNotNull && ($\"M_RVA\"!==0)) ||\n",
    "                      ($\"M_SELLER\".isNotNull)) \n",
    "\n",
    "prueba.show(65)"
   ]
  },
  {
   "cell_type": "code",
   "execution_count": 141,
   "id": "692f853e",
   "metadata": {},
   "outputs": [
    {
     "data": {
      "text/plain": [
       "res130: Long = 60\r\n"
      ]
     },
     "execution_count": 141,
     "metadata": {},
     "output_type": "execute_result"
    }
   ],
   "source": [
    "prueba.count()"
   ]
  },
  {
   "cell_type": "markdown",
   "id": "b64e281a-7e09-4627-91ca-eefa8c1ed7dc",
   "metadata": {},
   "source": [
    "### Resultado:\n",
    "\n",
    "**INSTRUCCIONES**: El DataFrame resultante debe almacenarse en la variable `resultado`, sustituyendo el valor `None` por el código que consideréis oportuno. De esta forma podréis comprobar si el resultado es correcto."
   ]
  },
  {
   "cell_type": "code",
   "execution_count": 142,
   "id": "cca78b82-9656-47f9-8ff3-2dfa4e4eea5b",
   "metadata": {},
   "outputs": [
    {
     "data": {
      "text/plain": [
       "resultado: org.apache.spark.sql.Dataset[org.apache.spark.sql.Row] = [nb: string, M_CCY: string ... 9 more fields]\r\n"
      ]
     },
     "execution_count": 142,
     "metadata": {},
     "output_type": "execute_result"
    }
   ],
   "source": [
    "val resultado = prueba"
   ]
  },
  {
   "cell_type": "code",
   "execution_count": 143,
   "id": "4c94d779-7dd1-4804-9659-c61ae306a0eb",
   "metadata": {},
   "outputs": [],
   "source": [
    "assert(resultado.count() == 60)\n",
    "assert(resultado.columns.size == 11)\n",
    "assert(resultado.columns(4) == \"M_DIRECTIAV\")\n",
    "assert(resultado.select(\"M_SELLER\").filter($\"nb\" === 23037162).first.getString(0) == \"AMAM\")\n",
    "assert(resultado.select(\"M_SELLER\").filter($\"nb\" === 19665186).first.getString(0) == \"LB_VSTAVRE\")\n",
    "assert(resultado.select(\"M_RVA\").filter($\"nb\" === 444111222).first.getString(0) == \"8956\")"
   ]
  },
  {
   "cell_type": "code",
   "execution_count": null,
   "id": "f02ed57f",
   "metadata": {},
   "outputs": [],
   "source": []
  }
 ],
 "metadata": {
  "kernelspec": {
   "display_name": "spylon-kernel",
   "language": "scala",
   "name": "spylon-kernel"
  },
  "language_info": {
   "codemirror_mode": "text/x-scala",
   "file_extension": ".scala",
   "help_links": [
    {
     "text": "MetaKernel Magics",
     "url": "https://metakernel.readthedocs.io/en/latest/source/README.html"
    }
   ],
   "mimetype": "text/x-scala",
   "name": "scala",
   "pygments_lexer": "scala",
   "version": "0.4.1"
  }
 },
 "nbformat": 4,
 "nbformat_minor": 5
}
