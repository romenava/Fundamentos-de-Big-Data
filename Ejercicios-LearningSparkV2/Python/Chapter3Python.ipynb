{
 "cells": [
  {
   "cell_type": "code",
   "execution_count": 1,
   "id": "153cdf59",
   "metadata": {},
   "outputs": [],
   "source": [
    "from pyspark.sql import SparkSession\n",
    "spark = (SparkSession\n",
    " .builder\n",
    " .appName(\"PythonChapter3\")\n",
    " .getOrCreate())"
   ]
  },
  {
   "cell_type": "code",
   "execution_count": 1,
   "id": "1d42caff",
   "metadata": {},
   "outputs": [],
   "source": [
    "from pyspark.sql.types import *\n",
    "\n",
    "fire_schema = StructType([StructField('CallNumber', IntegerType(), True),\n",
    " StructField('UnitID', StringType(), True),\n",
    " StructField('IncidentNumber', IntegerType(), True),\n",
    " StructField('CallType', StringType(), True), \n",
    " StructField('CallDate', StringType(), True), \n",
    " StructField('WatchDate', StringType(), True),\n",
    " StructField('CallFinalDisposition', StringType(), True),\n",
    " StructField('AvailableDtTm', StringType(), True),\n",
    " StructField('Address', StringType(), True), \n",
    " StructField('City', StringType(), True), \n",
    " StructField('Zipcode', IntegerType(), True), \n",
    " StructField('Battalion', StringType(), True), \n",
    " StructField('StationArea', StringType(), True), \n",
    " StructField('Box', StringType(), True), \n",
    " StructField('OriginalPriority', StringType(), True), \n",
    " StructField('Priority', StringType(), True), \n",
    " StructField('FinalPriority', IntegerType(), True), \n",
    " StructField('ALSUnit', BooleanType(), True), \n",
    " StructField('CallTypeGroup', StringType(), True),\n",
    " StructField('NumAlarms', IntegerType(), True),\n",
    " StructField('UnitType', StringType(), True),\n",
    " StructField('UnitSequenceInCallDispatch', IntegerType(), True),\n",
    " StructField('FirePreventionDistrict', StringType(), True),\n",
    " StructField('SupervisorDistrict', StringType(), True),\n",
    " StructField('Neighborhood', StringType(), True),\n",
    " StructField('Location', StringType(), True),\n",
    " StructField('RowID', StringType(), True),\n",
    " StructField('Delay', FloatType(), True)])\n",
    "\n",
    "sf_fire_file = \"C:/Users/alvaro.romero/Big_Data/LearningSparkV2-master/chapter3/data/sf-fire-calls.csv\"\n",
    "fire_df = spark.read.csv(sf_fire_file, header=True, schema=fire_schema)"
   ]
  },
  {
   "cell_type": "code",
   "execution_count": 2,
   "id": "c8d00386",
   "metadata": {},
   "outputs": [],
   "source": [
    "sampleDF = spark.read.csv(\"C:/Users/alvaro.romero/Big_Data/LearningSparkV2-master/chapter3/data/sf-fire-calls.csv\", header=True, samplingRatio=0.001)\n"
   ]
  },
  {
   "cell_type": "code",
   "execution_count": 9,
   "id": "6b0b0065",
   "metadata": {},
   "outputs": [
    {
     "name": "stdout",
     "output_type": "stream",
     "text": [
      "+-------------------+\n",
      "|ResponseDelayedMins|\n",
      "+-------------------+\n",
      "|5.35               |\n",
      "|6.25               |\n",
      "|5.2                |\n",
      "|5.6                |\n",
      "|7.25               |\n",
      "+-------------------+\n",
      "only showing top 5 rows\n",
      "\n"
     ]
    }
   ],
   "source": [
    "from pyspark.sql.types import *\n",
    "\n",
    "new_fire_df =fire_df.withColumnRenamed(\"Delay\", \"ResponseDelayedMins\")\n",
    "new_fire_df.select(\"ResponseDelayedMins\").where(col(\"ResponseDelayedMins\")>5).show(5, False)"
   ]
  },
  {
   "cell_type": "code",
   "execution_count": 4,
   "id": "fed8f0ad",
   "metadata": {},
   "outputs": [],
   "source": [
    "from pyspark.sql.functions import *\n",
    "\n",
    "fire_ts_df = (new_fire_df\n",
    "              .withColumn(\"IncidentDate\", to_timestamp(col(\"CallDate\"), \"MM/dd/yyyy\"))\n",
    "              .drop(\"CallDate\")\n",
    "              .withColumn(\"OnWatchDate\", to_timestamp(col(\"WatchDate\"), \"MM/dd/yyyy\"))\n",
    "              .drop(\"WatchDate\")\n",
    "              .withColumn(\"AvailableDtTS\", to_timestamp(col(\"AvailableDtTm\"), \"MM/dd/yyyy hh:mm:ss a\"))\n",
    "              .drop(\"AvailableDtTm\"))"
   ]
  },
  {
   "cell_type": "code",
   "execution_count": 5,
   "id": "84122469",
   "metadata": {},
   "outputs": [
    {
     "name": "stdout",
     "output_type": "stream",
     "text": [
      "+-------------------+-------------------+-------------------+\n",
      "|IncidentDate       |OnWatchDate        |AvailableDtTS      |\n",
      "+-------------------+-------------------+-------------------+\n",
      "|2002-01-11 00:00:00|2002-01-10 00:00:00|2002-01-11 01:51:44|\n",
      "|2002-01-11 00:00:00|2002-01-10 00:00:00|2002-01-11 03:01:18|\n",
      "|2002-01-11 00:00:00|2002-01-10 00:00:00|2002-01-11 02:39:50|\n",
      "|2002-01-11 00:00:00|2002-01-10 00:00:00|2002-01-11 04:16:46|\n",
      "|2002-01-11 00:00:00|2002-01-10 00:00:00|2002-01-11 06:01:58|\n",
      "+-------------------+-------------------+-------------------+\n",
      "only showing top 5 rows\n",
      "\n"
     ]
    }
   ],
   "source": [
    "(fire_ts_df\n",
    ".select(\"IncidentDate\", \"OnWatchDate\", \"AvailableDtTS\")\n",
    ".show(5,False))"
   ]
  },
  {
   "cell_type": "code",
   "execution_count": 6,
   "id": "95be6249",
   "metadata": {},
   "outputs": [
    {
     "name": "stdout",
     "output_type": "stream",
     "text": [
      "+------------------+\n",
      "|year(IncidentDate)|\n",
      "+------------------+\n",
      "|              2000|\n",
      "|              2001|\n",
      "|              2002|\n",
      "|              2003|\n",
      "|              2004|\n",
      "|              2005|\n",
      "|              2006|\n",
      "|              2007|\n",
      "|              2008|\n",
      "|              2009|\n",
      "|              2010|\n",
      "|              2011|\n",
      "|              2012|\n",
      "|              2013|\n",
      "|              2014|\n",
      "|              2015|\n",
      "|              2016|\n",
      "|              2017|\n",
      "|              2018|\n",
      "+------------------+\n",
      "\n"
     ]
    }
   ],
   "source": [
    "(fire_ts_df\n",
    ".select(year(\"IncidentDate\"))\n",
    ".distinct()\n",
    ".orderBy(year(\"IncidentDate\"))\n",
    ".show())"
   ]
  },
  {
   "cell_type": "code",
   "execution_count": 7,
   "id": "b6606228",
   "metadata": {},
   "outputs": [
    {
     "name": "stdout",
     "output_type": "stream",
     "text": [
      "+-------------------------------+------+\n",
      "|CallType                       |count |\n",
      "+-------------------------------+------+\n",
      "|Medical Incident               |113794|\n",
      "|Structure Fire                 |23319 |\n",
      "|Alarms                         |19406 |\n",
      "|Traffic Collision              |7013  |\n",
      "|Citizen Assist / Service Call  |2524  |\n",
      "|Other                          |2166  |\n",
      "|Outside Fire                   |2094  |\n",
      "|Vehicle Fire                   |854   |\n",
      "|Gas Leak (Natural and LP Gases)|764   |\n",
      "|Water Rescue                   |755   |\n",
      "+-------------------------------+------+\n",
      "only showing top 10 rows\n",
      "\n"
     ]
    }
   ],
   "source": [
    "(fire_ts_df\n",
    ".select(\"CallType\")\n",
    ".where(col(\"CallType\").isNotNull())\n",
    ".groupBy(\"CallType\")\n",
    ".count()\n",
    ".orderBy(desc(\"count\"))\n",
    ".show(10,False))"
   ]
  },
  {
   "cell_type": "code",
   "execution_count": 8,
   "id": "83c4c6c8",
   "metadata": {},
   "outputs": [
    {
     "name": "stdout",
     "output_type": "stream",
     "text": [
      "+--------------------------------------------+\n",
      "|CallType                                    |\n",
      "+--------------------------------------------+\n",
      "|Elevator / Escalator Rescue                 |\n",
      "|Marine Fire                                 |\n",
      "|Aircraft Emergency                          |\n",
      "|Confined Space / Structure Collapse         |\n",
      "|Administrative                              |\n",
      "|Alarms                                      |\n",
      "|Odor (Strange / Unknown)                    |\n",
      "|Citizen Assist / Service Call               |\n",
      "|HazMat                                      |\n",
      "|Watercraft in Distress                      |\n",
      "|Explosion                                   |\n",
      "|Oil Spill                                   |\n",
      "|Vehicle Fire                                |\n",
      "|Suspicious Package                          |\n",
      "|Extrication / Entrapped (Machinery, Vehicle)|\n",
      "|Other                                       |\n",
      "|Outside Fire                                |\n",
      "|Traffic Collision                           |\n",
      "|Assist Police                               |\n",
      "|Gas Leak (Natural and LP Gases)             |\n",
      "|Water Rescue                                |\n",
      "|Electrical Hazard                           |\n",
      "|High Angle Rescue                           |\n",
      "|Structure Fire                              |\n",
      "|Industrial Accidents                        |\n",
      "|Medical Incident                            |\n",
      "|Mutual Aid / Assist Outside Agency          |\n",
      "|Fuel Spill                                  |\n",
      "|Smoke Investigation (Outside)               |\n",
      "|Train / Rail Incident                       |\n",
      "+--------------------------------------------+\n",
      "\n"
     ]
    }
   ],
   "source": [
    "(fire_ts_df\n",
    ".select(\"CallType\")\n",
    ".where(col(\"CallType\").isNotNull())\n",
    ".distinct()\n",
    ".show(30,False))"
   ]
  },
  {
   "cell_type": "code",
   "execution_count": 16,
   "id": "2daf7169",
   "metadata": {},
   "outputs": [
    {
     "name": "stdout",
     "output_type": "stream",
     "text": [
      "+-------------------+-----+\n",
      "|month(IncidentDate)|count|\n",
      "+-------------------+-----+\n",
      "|                 10| 1068|\n",
      "|                  5| 1047|\n",
      "|                  3| 1029|\n",
      "|                  8| 1021|\n",
      "|                  1| 1007|\n",
      "|                  7|  974|\n",
      "|                  6|  974|\n",
      "|                  9|  951|\n",
      "|                  4|  947|\n",
      "|                  2|  919|\n",
      "|                 11|  199|\n",
      "+-------------------+-----+\n",
      "\n"
     ]
    }
   ],
   "source": [
    "(fire_ts_df\n",
    ".filter(year(col(\"IncidentDate\"))==2018)\n",
    ".groupBy(month(col(\"IncidentDate\")))\n",
    ".count()\n",
    ".orderBy(desc(\"count\"))\n",
    ".show(12))"
   ]
  },
  {
   "cell_type": "code",
   "execution_count": 17,
   "id": "838d5cf9",
   "metadata": {},
   "outputs": [
    {
     "name": "stdout",
     "output_type": "stream",
     "text": [
      "+------------------------------+-----+\n",
      "|Neighborhood                  |count|\n",
      "+------------------------------+-----+\n",
      "|Tenderloin                    |1393 |\n",
      "|South of Market               |1053 |\n",
      "|Mission                       |913  |\n",
      "|Financial District/South Beach|772  |\n",
      "|Bayview Hunters Point         |522  |\n",
      "|Western Addition              |352  |\n",
      "|Sunset/Parkside               |346  |\n",
      "|Nob Hill                      |295  |\n",
      "|Hayes Valley                  |291  |\n",
      "|Outer Richmond                |262  |\n",
      "|Castro/Upper Market           |251  |\n",
      "|North Beach                   |231  |\n",
      "|Excelsior                     |212  |\n",
      "|Potrero Hill                  |210  |\n",
      "|West of Twin Peaks            |210  |\n",
      "|Marina                        |191  |\n",
      "|Chinatown                     |191  |\n",
      "|Pacific Heights               |191  |\n",
      "|Mission Bay                   |178  |\n",
      "|Bernal Heights                |170  |\n",
      "|Lakeshore                     |159  |\n",
      "|Inner Sunset                  |154  |\n",
      "|Russian Hill                  |147  |\n",
      "|Haight Ashbury                |140  |\n",
      "|Oceanview/Merced/Ingleside    |139  |\n",
      "|Outer Mission                 |137  |\n",
      "|Inner Richmond                |129  |\n",
      "|Lone Mountain/USF             |108  |\n",
      "|Visitacion Valley             |105  |\n",
      "|Japantown                     |94   |\n",
      "|Portola                       |83   |\n",
      "|Noe Valley                    |79   |\n",
      "|Treasure Island               |72   |\n",
      "|Presidio Heights              |71   |\n",
      "|Presidio                      |69   |\n",
      "|Golden Gate Park              |64   |\n",
      "|Twin Peaks                    |61   |\n",
      "|Glen Park                     |48   |\n",
      "|Seacliff                      |15   |\n",
      "|McLaren Park                  |14   |\n",
      "|Lincoln Park                  |9    |\n",
      "|None                          |5    |\n",
      "+------------------------------+-----+\n",
      "\n"
     ]
    }
   ],
   "source": [
    "(fire_ts_df\n",
    ".select(\"Neighborhood\")\n",
    ".where(year(col(\"IncidentDate\")) == 2018)\n",
    ".groupBy(\"Neighborhood\")\n",
    ".count()\n",
    ".orderBy(desc(\"count\"))\n",
    ".show(50, False))"
   ]
  },
  {
   "cell_type": "code",
   "execution_count": 18,
   "id": "c14e40b7",
   "metadata": {},
   "outputs": [
    {
     "name": "stdout",
     "output_type": "stream",
     "text": [
      "+------------------------------+-------------------+\n",
      "|Neighborhood                  |ResponseDelayedMins|\n",
      "+------------------------------+-------------------+\n",
      "|Presidio Heights              |2.8833334          |\n",
      "|Mission Bay                   |6.3333335          |\n",
      "|Chinatown                     |2.65               |\n",
      "|Financial District/South Beach|3.5333333          |\n",
      "|Tenderloin                    |1.1                |\n",
      "|Bayview Hunters Point         |4.05               |\n",
      "|Inner Richmond                |2.5666666          |\n",
      "|Inner Sunset                  |1.4                |\n",
      "|Sunset/Parkside               |2.6666667          |\n",
      "|South of Market               |1.7666667          |\n",
      "+------------------------------+-------------------+\n",
      "only showing top 10 rows\n",
      "\n"
     ]
    }
   ],
   "source": [
    "(fire_ts_df\n",
    ".select(\"Neighborhood\", \"ResponseDelayedMins\")\n",
    ".filter(year(col(\"IncidentDate\")) == 2018)\n",
    ".show(10, False))"
   ]
  },
  {
   "cell_type": "code",
   "execution_count": 19,
   "id": "2b4a8b9c",
   "metadata": {},
   "outputs": [
    {
     "name": "stdout",
     "output_type": "stream",
     "text": [
      "+------------------------+-----+\n",
      "|weekofyear(IncidentDate)|count|\n",
      "+------------------------+-----+\n",
      "|                      22|  259|\n",
      "|                      40|  255|\n",
      "|                      43|  250|\n",
      "|                      25|  249|\n",
      "|                       1|  246|\n",
      "|                      44|  244|\n",
      "|                      13|  243|\n",
      "|                      32|  243|\n",
      "|                      11|  240|\n",
      "|                      18|  236|\n",
      "|                       5|  236|\n",
      "|                      23|  235|\n",
      "+------------------------+-----+\n",
      "only showing top 12 rows\n",
      "\n"
     ]
    }
   ],
   "source": [
    "(fire_ts_df\n",
    ".filter(year(col(\"IncidentDate\"))==2018)\n",
    ".groupBy(weekofyear(col(\"IncidentDate\")))\n",
    ".count()\n",
    ".orderBy(desc(\"count\"))\n",
    ".show(12))"
   ]
  },
  {
   "cell_type": "code",
   "execution_count": 20,
   "id": "6cdb1b3d",
   "metadata": {},
   "outputs": [
    {
     "name": "stdout",
     "output_type": "stream",
     "text": [
      "+----------------+-------+-----+\n",
      "|        CallType|ZipCode|count|\n",
      "+----------------+-------+-----+\n",
      "|Medical Incident|  94102|16130|\n",
      "|Medical Incident|  94103|14775|\n",
      "|Medical Incident|  94110| 9995|\n",
      "|Medical Incident|  94109| 9479|\n",
      "|Medical Incident|  94124| 5885|\n",
      "|Medical Incident|  94112| 5630|\n",
      "|Medical Incident|  94115| 4785|\n",
      "|Medical Incident|  94122| 4323|\n",
      "|Medical Incident|  94107| 4284|\n",
      "|Medical Incident|  94133| 3977|\n",
      "|Medical Incident|  94117| 3522|\n",
      "|Medical Incident|  94134| 3437|\n",
      "|Medical Incident|  94114| 3225|\n",
      "|Medical Incident|  94118| 3104|\n",
      "|Medical Incident|  94121| 2953|\n",
      "|Medical Incident|  94116| 2738|\n",
      "|Medical Incident|  94132| 2594|\n",
      "|  Structure Fire|  94110| 2267|\n",
      "|Medical Incident|  94105| 2258|\n",
      "|  Structure Fire|  94102| 2229|\n",
      "+----------------+-------+-----+\n",
      "only showing top 20 rows\n",
      "\n"
     ]
    }
   ],
   "source": [
    "(fire_ts_df\n",
    ".select(\"CallType\", \"ZipCode\")\n",
    ".where(col(\"CallType\").isNotNull())\n",
    ".groupBy(\"CallType\", \"ZipCode\")\n",
    ".count()\n",
    ".orderBy(desc(\"count\"))\n",
    ".show())"
   ]
  },
  {
   "cell_type": "code",
   "execution_count": 21,
   "id": "a94a9e63",
   "metadata": {},
   "outputs": [
    {
     "name": "stdout",
     "output_type": "stream",
     "text": [
      "+------------------------------+-------+\n",
      "|Neighborhood                  |ZipCode|\n",
      "+------------------------------+-------+\n",
      "|Potrero Hill                  |94103  |\n",
      "|Western Addition              |94102  |\n",
      "|Tenderloin                    |94102  |\n",
      "|Nob Hill                      |94102  |\n",
      "|Castro/Upper Market           |94103  |\n",
      "|South of Market               |94102  |\n",
      "|South of Market               |94103  |\n",
      "|Hayes Valley                  |94103  |\n",
      "|Financial District/South Beach|94102  |\n",
      "|Mission Bay                   |94103  |\n",
      "+------------------------------+-------+\n",
      "only showing top 10 rows\n",
      "\n"
     ]
    }
   ],
   "source": [
    "(fire_ts_df\n",
    ".select(\"Neighborhood\", \"ZipCode\")\n",
    ".where((col(\"ZipCode\")==94102) | (col(\"ZipCode\")==94103))\n",
    ".distinct()\n",
    ".show(10,truncate=False))"
   ]
  },
  {
   "cell_type": "code",
   "execution_count": 22,
   "id": "992f1ffa",
   "metadata": {},
   "outputs": [],
   "source": [
    "# El último parámetro de StructField(‘Delay’, FloatType(), True) significa que el campo “Delay” puede ser nulo.\n",
    "# En caso de ser False, no podría ser nulo. "
   ]
  },
  {
   "cell_type": "code",
   "execution_count": 23,
   "id": "3c30d1ed",
   "metadata": {},
   "outputs": [],
   "source": [
    "# Los DataSets son colecciones de objetos fuertemente tipados y los DataFrames son DataSets sin tipado. \n",
    "# En Scala, un DataFrame es un alias para un DataSet[Row], siendo Row un objeto JVM genérico sin tipado \n",
    "# que puede contener diferentes tipos de campos. "
   ]
  },
  {
   "cell_type": "code",
   "execution_count": 24,
   "id": "f4f0a167",
   "metadata": {},
   "outputs": [],
   "source": [
    "# Guardando en parquet\n",
    "fire_ts_df.write.format(\"parquet\").mode(\"overwrite\").save(\"C:/Users/alvaro.romero/Big_Data/Ejercicios_Spark/Guardar_Tablas/Parquet\")"
   ]
  },
  {
   "cell_type": "code",
   "execution_count": 25,
   "id": "93a2005c",
   "metadata": {},
   "outputs": [],
   "source": [
    "# Guardando en json\n",
    "fire_ts_df.write.format(\"json\").mode(\"overwrite\").save(\"C:/Users/alvaro.romero/Big_Data/Ejercicios_Spark/Guardar_Tablas/JSON/\")"
   ]
  },
  {
   "cell_type": "code",
   "execution_count": 35,
   "id": "11cd9ba7",
   "metadata": {},
   "outputs": [],
   "source": [
    "# Guardando en csv\n",
    "fire_ts_df.write.format(\"csv\").mode(\"overwrite\").save(\"C:/Users/alvaro.romero/Big_Data/Ejercicios_Spark/Guardar_Tablas/CSV/\")"
   ]
  },
  {
   "cell_type": "code",
   "execution_count": 27,
   "id": "62a93f38",
   "metadata": {},
   "outputs": [],
   "source": [
    "# Guardando en avro\n",
    "fire_ts_df.write.format(\"avro\").mode(\"overwrite\").save(\"C:/Users/alvaro.romero/Big_Data/Ejercicios_Spark/Guardar_Tablas/AVRO/\")"
   ]
  },
  {
   "cell_type": "code",
   "execution_count": 29,
   "id": "05d4c0ac",
   "metadata": {},
   "outputs": [
    {
     "data": {
      "text/plain": [
       "<bound method RDD.getNumPartitions of MapPartitionsRDD[126] at javaToPython at NativeMethodAccessorImpl.java:0>"
      ]
     },
     "execution_count": 29,
     "metadata": {},
     "output_type": "execute_result"
    }
   ],
   "source": [
    "# Hay más de un fichero debido a las particiones.\n",
    "# El comando getNumPartitions en el RDD sirve para obtener el número de particiones de un DataFrame\n",
    "fire_ts_df.rdd.getNumPartitions\n",
    "# El comando coalesce en el RDD sirve para reducir el número de particiones de un DataFrame\n",
    "# El comando partition en el RDD sirve para aumentar el número de particiones de un DataFrame\n",
    "prueba_fire_ts_df = fire_ts_df.coalesce(1)\n",
    "prueba_fire_ts_df.rdd.getNumPartitions"
   ]
  },
  {
   "cell_type": "code",
   "execution_count": 30,
   "id": "571ca967",
   "metadata": {},
   "outputs": [],
   "source": [
    "# Guardando en parquet\n",
    "prueba_fire_ts_df.write.format(\"parquet\").mode(\"overwrite\").save(\"C:/Users/alvaro.romero/Big_Data/Ejercicios_Spark/Guardar_Tablas2/Parquet\")"
   ]
  },
  {
   "cell_type": "code",
   "execution_count": 32,
   "id": "849d9824",
   "metadata": {},
   "outputs": [],
   "source": [
    "# Guardando en json\n",
    "prueba_fire_ts_df.write.format(\"json\").mode(\"overwrite\").save(\"C:/Users/alvaro.romero/Big_Data/Ejercicios_Spark/Guardar_Tablas2/JSON/\")"
   ]
  },
  {
   "cell_type": "code",
   "execution_count": 33,
   "id": "772a7fa0",
   "metadata": {},
   "outputs": [],
   "source": [
    "# Guardando en csv\n",
    "prueba_fire_ts_df.write.format(\"csv\").mode(\"overwrite\").save(\"C:/Users/alvaro.romero/Big_Data/Ejercicios_Spark/Guardar_Tablas2/CSV/\")"
   ]
  },
  {
   "cell_type": "code",
   "execution_count": 34,
   "id": "eb8f551a",
   "metadata": {},
   "outputs": [],
   "source": [
    "# Guardando en avro\n",
    "prueba_fire_ts_df.write.format(\"avro\").mode(\"overwrite\").save(\"C:/Users/alvaro.romero/Big_Data/Ejercicios_Spark/Guardar_Tablas2/AVRO/\")"
   ]
  },
  {
   "cell_type": "code",
   "execution_count": null,
   "id": "356f3d54",
   "metadata": {},
   "outputs": [],
   "source": []
  }
 ],
 "metadata": {
  "kernelspec": {
   "display_name": "Python 3",
   "language": "python",
   "name": "python3"
  },
  "language_info": {
   "codemirror_mode": {
    "name": "ipython",
    "version": 3
   },
   "file_extension": ".py",
   "mimetype": "text/x-python",
   "name": "python",
   "nbconvert_exporter": "python",
   "pygments_lexer": "ipython3",
   "version": "3.8.8"
  }
 },
 "nbformat": 4,
 "nbformat_minor": 5
}
